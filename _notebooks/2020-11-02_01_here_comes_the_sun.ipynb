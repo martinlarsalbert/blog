{
 "cells": [
  {
   "cell_type": "markdown",
   "metadata": {},
   "source": [
    "# Here comes the sun\n",
    "> When does the sun rise and set? I have a fuzzy idea about how this works, here I want to make it a little bit less fuzzy.\n",
    "\n",
    "- toc: true\n",
    "- branch: master\n",
    "- badges: true\n",
    "- comments: true\n",
    "- categories: [math]\n",
    "- image: https://exitoina.uol.com.br/media/_versions/beatlessss_widelg.jpg\n",
    "- hide: false\n",
    "- search_exclude: true\n",
    "- metadata_key1: metadata_value1\n",
    "- metadata_key2: metadata_value2"
   ]
  },
  {
   "cell_type": "markdown",
   "metadata": {},
   "source": [
    "## Using suntime package\n",
    "Eventhough this could be cheating, it's a good starting point to get a feel...\n",
    "This example is taken straight from the documentation:"
   ]
  },
  {
   "cell_type": "code",
   "execution_count": 23,
   "metadata": {},
   "outputs": [],
   "source": [
    "#hide\n",
    "import warnings\n",
    "warnings.filterwarnings(\"ignore\")"
   ]
  },
  {
   "cell_type": "code",
   "execution_count": 24,
   "metadata": {},
   "outputs": [
    {
     "name": "stdout",
     "output_type": "stream",
     "text": [
      "Today (2020-11-02) at Warsaw the sun raised at 05:32 and get down at 15:07 UTC\n",
      "On 2014-10-03 the sun at Warsaw raised at 06:39 and get down at 18:10.\n",
      "Error: The sun never rises on this location (on the specified date).\n"
     ]
    }
   ],
   "source": [
    "#collapse\n",
    "import datetime\n",
    "from suntime import Sun, SunTimeException\n",
    "\n",
    "latitude = 51.21\n",
    "longitude = 21.01\n",
    "\n",
    "sun = Sun(latitude, longitude)\n",
    "\n",
    "# Get today's sunrise and sunset in UTC\n",
    "today_sr = sun.get_sunrise_time()\n",
    "today_ss = sun.get_sunset_time()\n",
    "print('Today ({}) at Warsaw the sun raised at {} and get down at {} UTC'.\n",
    "      format(datetime.datetime.today().strftime('%Y-%m-%d'), today_sr.strftime('%H:%M'), today_ss.strftime('%H:%M')))\n",
    "\n",
    "# On a special date in your machine's local time zone\n",
    "abd = datetime.date(2014, 10, 3)\n",
    "abd_sr = sun.get_local_sunrise_time(abd)\n",
    "abd_ss = sun.get_local_sunset_time(abd)\n",
    "print('On {} the sun at Warsaw raised at {} and get down at {}.'.\n",
    "      format(abd, abd_sr.strftime('%H:%M'), abd_ss.strftime('%H:%M')))\n",
    "\n",
    "# Error handling (no sunset or sunrise on given location)\n",
    "latitude = 87.55\n",
    "longitude = 0.1\n",
    "sun = Sun(latitude, longitude)\n",
    "try:\n",
    "    abd_sr = sun.get_local_sunrise_time(abd)\n",
    "    abd_ss = sun.get_local_sunset_time(abd)\n",
    "    print('On {} at somewhere in the north the sun raised at {} and get down at {}.'.\n",
    "          format(abd, abd_sr.strftime('%H:%M'), abd_ss.strftime('%H:%M')))\n",
    "except SunTimeException as e:\n",
    "    print(\"Error: {0}.\".format(e))"
   ]
  },
  {
   "cell_type": "markdown",
   "metadata": {},
   "source": [
    "I currently live here: 58°04'00.8\"N 11°42'10.7\"E\n",
    "\n",
    "This one can be converted to [Decimal degrees](https://en.wikipedia.org/wiki/Decimal_degrees)."
   ]
  },
  {
   "cell_type": "code",
   "execution_count": 25,
   "metadata": {},
   "outputs": [],
   "source": [
    "def longitude_str_to_num(s:str):\n",
    "    \"\"\"\n",
    "    Convert a longitude or latitude in the following format : 58°04'00.8\"N\n",
    "    to degrees\n",
    "    \"\"\"\n",
    "    \n",
    "    s1,s_=s.split('°')\n",
    "    s2,s_=s_.split(\"'\")\n",
    "    s3,s_=s_.split('\"')\n",
    "    \n",
    "    \n",
    "    D = float(s1)\n",
    "    M = float(s2)\n",
    "    S = float(s3)\n",
    "    \n",
    "    D_deg = D + M/60 + S/3600\n",
    "    \n",
    "    if (s_=='W') or (s_=='S'):\n",
    "        D_deg*=-1\n",
    "    \n",
    "    \n",
    "    return D_deg"
   ]
  },
  {
   "cell_type": "code",
   "execution_count": 26,
   "metadata": {},
   "outputs": [
    {
     "data": {
      "text/plain": [
       "58.06688888888889"
      ]
     },
     "execution_count": 26,
     "metadata": {},
     "output_type": "execute_result"
    }
   ],
   "source": [
    "latitude = longitude_str_to_num('58°04\\'00.8\"N')\n",
    "latitude"
   ]
  },
  {
   "cell_type": "code",
   "execution_count": 27,
   "metadata": {},
   "outputs": [
    {
     "data": {
      "text/plain": [
       "11.702972222222222"
      ]
     },
     "execution_count": 27,
     "metadata": {},
     "output_type": "execute_result"
    }
   ],
   "source": [
    "longitude = longitude_str_to_num('11°42\\'10.7\"E')\n",
    "longitude"
   ]
  },
  {
   "cell_type": "code",
   "execution_count": 28,
   "metadata": {},
   "outputs": [],
   "source": [
    "sun = Sun(latitude, longitude)"
   ]
  },
  {
   "cell_type": "code",
   "execution_count": 29,
   "metadata": {},
   "outputs": [
    {
     "data": {
      "text/plain": [
       "datetime.datetime(2020, 11, 2, 6, 31, tzinfo=tzutc())"
      ]
     },
     "execution_count": 29,
     "metadata": {},
     "output_type": "execute_result"
    }
   ],
   "source": [
    "sunrise_time = sun.get_sunrise_time()\n",
    "sunrise_time"
   ]
  },
  {
   "cell_type": "code",
   "execution_count": 30,
   "metadata": {
    "scrolled": true
   },
   "outputs": [
    {
     "data": {
      "text/plain": [
       "datetime.datetime(2020, 11, 2, 15, 21, tzinfo=tzutc())"
      ]
     },
     "execution_count": 30,
     "metadata": {},
     "output_type": "execute_result"
    }
   ],
   "source": [
    "sunset_time = sun.get_sunset_time()\n",
    "sunset_time"
   ]
  },
  {
   "cell_type": "markdown",
   "metadata": {},
   "source": [
    "Getting these times in local time zone is somewhat messy:"
   ]
  },
  {
   "cell_type": "code",
   "execution_count": 31,
   "metadata": {},
   "outputs": [
    {
     "data": {
      "text/plain": [
       "datetime.datetime(2020, 11, 2, 7, 31, tzinfo=<DstTzInfo 'Europe/Stockholm' CET+1:00:00 STD>)"
      ]
     },
     "execution_count": 31,
     "metadata": {},
     "output_type": "execute_result"
    }
   ],
   "source": [
    "import pytz\n",
    "timezone = pytz.timezone(r'Europe/Stockholm')\n",
    "sunrise_time.replace(tzinfo=pytz.utc).astimezone(timezone)"
   ]
  },
  {
   "cell_type": "markdown",
   "metadata": {},
   "source": [
    "## Own implementation"
   ]
  },
  {
   "cell_type": "markdown",
   "metadata": {},
   "source": [
    "The [Sun rise equation](https://en.wikipedia.org/wiki/Sunrise_equation) is written:\n",
    "$$\\cos \\omega_{\\circ}=-\\tan \\phi \\times \\tan \\delta$$\n",
    "where $\\phi$ is the latitude and $\\delta$ is the earth inclination angle to the sun, which changes over the seasons.\n",
    "\n",
    "The [declination-angle](https://www.pveducation.org/pvcdrom/properties-of-sunlight/declination-angle) can be calculated:\n",
    "$$ \\delta=-23.45^{\\circ} \\times \\cos \\left(\\frac{360}{365} \\times(d+10)\\right) $$\n",
    "where $d=1$ at january 1st.\n",
    "\n",
    "Putting it all together:"
   ]
  },
  {
   "cell_type": "code",
   "execution_count": 32,
   "metadata": {},
   "outputs": [],
   "source": [
    "import numpy as np\n",
    "import matplotlib.pyplot as plt\n",
    "\n",
    "def calculate_declination_angle(day):\n",
    "    angle_deg=360/365*(day+10)\n",
    "    delta_deg = -23.45*np.cos(np.deg2rad(angle_deg))\n",
    "    delta = np.deg2rad(delta_deg)    \n",
    "    return delta    "
   ]
  },
  {
   "cell_type": "code",
   "execution_count": 33,
   "metadata": {},
   "outputs": [
    {
     "data": {
      "image/png": "[encoded data removed]",
      "text/plain": [
       "<Figure size 432x288 with 1 Axes>"
      ]
     },
     "metadata": {
      "needs_background": "light"
     },
     "output_type": "display_data"
    }
   ],
   "source": [
    "#collapse\n",
    "days=np.linspace(1,360,360)\n",
    "delta=calculate_declination_angle(day=days)\n",
    "\n",
    "fig,ax=plt.subplots()\n",
    "ax.plot(days,np.rad2deg(delta));\n",
    "ax.set_xlabel('days')\n",
    "ax.set_ylabel('$\\delta$ inclination angle [deg]');"
   ]
  },
  {
   "cell_type": "code",
   "execution_count": 34,
   "metadata": {},
   "outputs": [],
   "source": [
    "def sun_hour_angle(latitude:float, day:int):\n",
    "    \"\"\"\n",
    "    param: latitude [deg]\n",
    "    param: day, january 1 --> day=1\n",
    "    \"\"\"\n",
    "    delta = calculate_declination_angle(day=day)\n",
    "    phi=np.deg2rad(latitude)\n",
    "    omega0 = np.arccos(-np.tan(phi)*np.tan(delta))\n",
    "    \n",
    "    return omega0\n",
    "\n",
    "def sun_rise_time(latitude:float, day:int):\n",
    "    \"\"\"\n",
    "    param: latitude [deg]\n",
    "    param: day, january 1 --> day=1\n",
    "    \"\"\"\n",
    "    omega0 = sun_hour_angle(latitude=latitude, day=day)\n",
    "    rise_time=12-omega0/np.deg2rad(15)\n",
    "    return rise_time\n",
    "\n",
    "def sun_set_time(latitude:float, day:int):\n",
    "    \"\"\"\n",
    "    param: latitude [deg]\n",
    "    param: day, january 1 --> day=1\n",
    "    \"\"\"\n",
    "    omega0 = sun_hour_angle(latitude=latitude, day=day)\n",
    "    set_time=12+omega0/np.deg2rad(15)\n",
    "    \n",
    "    return set_time\n",
    "    \n",
    "    "
   ]
  },
  {
   "cell_type": "code",
   "execution_count": 35,
   "metadata": {},
   "outputs": [
    {
     "data": {
      "image/png": "[encoded data removed]",
      "text/plain": [
       "<Figure size 432x288 with 1 Axes>"
      ]
     },
     "metadata": {
      "needs_background": "light"
     },
     "output_type": "display_data"
    }
   ],
   "source": [
    "#collapse\n",
    "\n",
    "rise_time=sun_rise_time(latitude=latitude, day=days)\n",
    "set_time=sun_set_time(latitude=latitude, day=days)\n",
    "\n",
    "\n",
    "fig,ax=plt.subplots()\n",
    "ax.plot(days,rise_time, label='rise', color='y');\n",
    "ax.plot(days,set_time, label='set', color='r');\n",
    "ax.legend()\n",
    "ax.set_xlabel('days')\n",
    "ax.set_ylabel('time [hour]');\n"
   ]
  },
  {
   "cell_type": "code",
   "execution_count": 36,
   "metadata": {},
   "outputs": [
    {
     "data": {
      "text/plain": [
       "'7:46:23.220795'"
      ]
     },
     "execution_count": 36,
     "metadata": {},
     "output_type": "execute_result"
    }
   ],
   "source": [
    "now = datetime.datetime.now()\n",
    "day = (now-datetime.datetime(year=now.year, month=1, day=1)).days\n",
    "rise_time = sun_rise_time(latitude=latitude, day=day)\n",
    "rise_time = datetime.timedelta(hours=rise_time)\n",
    "'%s' % rise_time"
   ]
  },
  {
   "cell_type": "markdown",
   "metadata": {},
   "source": [
    "... so we are missing with about 15 minutes compared to the previous result. I think that the given time here is by definition in local time, since we substract from local time 12 o'clock as in the code above.\n",
    "\n",
    "Wikipedia also says that there is a more advanced [Sun rise equation](https://en.wikipedia.org/wiki/Sunrise_equation):\n",
    "\n",
    "$$ \\cos \\omega_{\\circ}=\\frac{\\sin a-\\sin \\phi \\times \\sin \\delta}{\\cos \\phi \\times \\cos \\delta} $$\n",
    "where $a=−0.83°$\n",
    "\n",
    "Will that fix the 15 minutes?"
   ]
  },
  {
   "cell_type": "code",
   "execution_count": 37,
   "metadata": {},
   "outputs": [],
   "source": [
    "#collapse\n",
    "from numpy import sin,cos \n",
    "\n",
    "def sun_hour_angle2(latitude:float, day:int):\n",
    "    \"\"\"\n",
    "    param: latitude [deg]\n",
    "    param: day, january 1 --> day=1\n",
    "    \"\"\"\n",
    "    delta = calculate_declination_angle(day=day)\n",
    "    phi=np.deg2rad(latitude)\n",
    "    a = np.deg2rad(-0.83)\n",
    "    \n",
    "    omega0 = np.arccos((sin(a)-sin(phi)*sin(delta))/(cos(phi)*cos(delta)))\n",
    "    return omega0\n",
    "\n",
    "def sun_rise_time2(latitude:float, day:int):\n",
    "    \"\"\"\n",
    "    param: latitude [deg]\n",
    "    param: day, january 1 --> day=1\n",
    "    \"\"\"\n",
    "    omega0 = sun_hour_angle2(latitude=latitude, day=day)\n",
    "    rise_time=12-omega0/np.deg2rad(15)\n",
    "    return rise_time\n",
    "\n",
    "def sun_set_time2(latitude:float, day:int):\n",
    "    \"\"\"\n",
    "    param: latitude [deg]\n",
    "    param: day, january 1 --> day=1\n",
    "    \"\"\"\n",
    "    omega0 = sun_hour_angle2(latitude=latitude, day=day)\n",
    "    set_time=12+omega0/np.deg2rad(15)\n",
    "    \n",
    "    return set_time"
   ]
  },
  {
   "cell_type": "code",
   "execution_count": 38,
   "metadata": {},
   "outputs": [
    {
     "data": {
      "text/plain": [
       "'7:39:09.322665'"
      ]
     },
     "execution_count": 38,
     "metadata": {},
     "output_type": "execute_result"
    }
   ],
   "source": [
    "rise_time = sun_rise_time2(latitude=latitude, day=day)\n",
    "rise_time = datetime.timedelta(hours=rise_time)\n",
    "'%s' % rise_time"
   ]
  },
  {
   "cell_type": "markdown",
   "metadata": {},
   "source": [
    "...a little bit better but still not perfect. There was also a simplification in the calculation of the inclination angle, will that do it?"
   ]
  },
  {
   "cell_type": "code",
   "execution_count": 39,
   "metadata": {},
   "outputs": [],
   "source": [
    "def calculate_declination_angle2(day):\n",
    "    angle_deg=360/365*(day+10)    \n",
    "    delta = np.arcsin(np.sin(np.deg2rad(-23.45))*np.cos(np.deg2rad(angle_deg)))\n",
    "    return delta "
   ]
  },
  {
   "cell_type": "code",
   "execution_count": 40,
   "metadata": {},
   "outputs": [
    {
     "data": {
      "text/plain": [
       "<matplotlib.legend.Legend at 0x12210e780>"
      ]
     },
     "execution_count": 40,
     "metadata": {},
     "output_type": "execute_result"
    },
    {
     "data": {
      "image/png": "[encoded data removed]",
      "text/plain": [
       "<Figure size 432x288 with 1 Axes>"
      ]
     },
     "metadata": {
      "needs_background": "light"
     },
     "output_type": "display_data"
    }
   ],
   "source": [
    "#collapse\n",
    "\n",
    "delta=calculate_declination_angle(day=days)\n",
    "delta2=calculate_declination_angle2(day=days)\n",
    "\n",
    "\n",
    "fig,ax=plt.subplots()\n",
    "\n",
    "ax.plot(days,np.rad2deg(delta),label='inclination linear');\n",
    "ax.plot(days,np.rad2deg(delta2),'--', label='inlination nonlinear');\n",
    "\n",
    "ax.set_xlabel('days')\n",
    "ax.set_ylabel('$\\delta$ inclination angle [deg]');\n",
    "ax.legend()"
   ]
  },
  {
   "cell_type": "code",
   "execution_count": 41,
   "metadata": {},
   "outputs": [],
   "source": [
    "#collapse\n",
    "\n",
    "def sun_hour_angle3(latitude:float, day:int):\n",
    "    \"\"\"\n",
    "    param: latitude [deg]\n",
    "    param: day, january 1 --> day=1\n",
    "    \"\"\"\n",
    "    delta = calculate_declination_angle2(day=day)\n",
    "    phi=np.deg2rad(latitude)\n",
    "    a = np.deg2rad(-0.83)\n",
    "    \n",
    "    omega0 = np.arccos((sin(a)-sin(phi)*sin(delta))/(cos(phi)*cos(delta)))\n",
    "    return omega0\n",
    "\n",
    "def sun_rise_time3(latitude:float, day:int):\n",
    "    \"\"\"\n",
    "    param: latitude [deg]\n",
    "    param: day, january 1 --> day=1\n",
    "    \"\"\"\n",
    "    omega0 = sun_hour_angle3(latitude=latitude, day=day)\n",
    "    rise_time=12-omega0/np.deg2rad(15)\n",
    "    return rise_time\n",
    "\n",
    "def sun_set_time3(latitude:float, day:int):\n",
    "    \"\"\"\n",
    "    param: latitude [deg]\n",
    "    param: day, january 1 --> day=1\n",
    "    \"\"\"\n",
    "    omega0 = sun_hour_angle3(latitude=latitude, day=day)\n",
    "    set_time=12+omega0/np.deg2rad(15)\n",
    "    \n",
    "    return set_time"
   ]
  },
  {
   "cell_type": "code",
   "execution_count": 42,
   "metadata": {},
   "outputs": [
    {
     "data": {
      "text/plain": [
       "'7:37:16.367648'"
      ]
     },
     "execution_count": 42,
     "metadata": {},
     "output_type": "execute_result"
    }
   ],
   "source": [
    "rise_time = sun_rise_time3(latitude=latitude, day=day)\n",
    "rise_time = datetime.timedelta(hours=rise_time)\n",
    "'%s' % rise_time"
   ]
  },
  {
   "cell_type": "markdown",
   "metadata": {},
   "source": [
    "yet a little bit better, but there is still some time missing..."
   ]
  },
  {
   "cell_type": "code",
   "execution_count": 43,
   "metadata": {
    "scrolled": true
   },
   "outputs": [
    {
     "data": {
      "image/png": "[encoded data removed]",
      "text/plain": [
       "<Figure size 432x288 with 1 Axes>"
      ]
     },
     "metadata": {
      "needs_background": "light"
     },
     "output_type": "display_data"
    }
   ],
   "source": [
    "#collapse\n",
    "def time_of_day(latitude:float, day:int):\n",
    "    return sun_set_time3(latitude=latitude, day=day) - sun_rise_time3(latitude=latitude, day=day)\n",
    "\n",
    "time=time_of_day(latitude=latitude, day=days)\n",
    "\n",
    "fig,ax=plt.subplots()\n",
    "ax.plot(days,time, 'b-', label='rise');\n",
    "ax.set_xlabel('days')\n",
    "ax.set_ylabel('Length of day [hour]');\n",
    "ax.grid(True)"
   ]
  },
  {
   "cell_type": "code",
   "execution_count": 48,
   "metadata": {},
   "outputs": [
    {
     "data": {
      "image/png": "[encoded data removed]",
      "text/plain": [
       "<Figure size 1080x720 with 2 Axes>"
      ]
     },
     "metadata": {
      "needs_background": "light"
     },
     "output_type": "display_data"
    }
   ],
   "source": [
    "#collapse\n",
    "\n",
    "from matplotlib import ticker, cm\n",
    "\n",
    "N=400\n",
    "latitudes = np.linspace(0.1,89.9,N)\n",
    "days_ = np.linspace(0,365,N)\n",
    "L = np.tile(latitudes,(len(days_),1))\n",
    "D = np.tile(days_,(N,1)).T\n",
    "\n",
    "time=time_of_day(latitude=L, day=D)\n",
    "\n",
    "fig,ax=plt.subplots()\n",
    "fig.set_size_inches(15,10)\n",
    "cs = ax.contourf(D,L,time, cmap=cm.gray, levels=24);\n",
    "cb = fig.colorbar(cs)\n",
    "ax.set_xlabel('days')\n",
    "ax.set_ylabel('Latitude [deg]');\n",
    "\n",
    "latitude = longitude_str_to_num('58°04\\'00.8\"N')\n",
    "ax.plot([0,365],[latitude,latitude],'b-');\n",
    "ax.plot(day,latitude,'ro');\n",
    "\n",
    "ax.set_title('Hours per day at various days and latitudes');"
   ]
  },
  {
   "cell_type": "markdown",
   "metadata": {},
   "source": [
    "The blue line is where I normally experience the seasons and at this very moment I'm in the red dot, listening to this:\n",
    "\n",
    "<iframe width=\"560\" height=\"315\" src=\"https://www.youtube.com/embed/8SbUC-UaAxE\" frameborder=\"0\" allow=\"accelerometer; autoplay; clipboard-write; encrypted-media; gyroscope; picture-in-picture\" allowfullscreen></iframe>"
   ]
  },
  {
   "cell_type": "code",
   "execution_count": null,
   "metadata": {},
   "outputs": [],
   "source": []
  }
 ],
 "metadata": {
  "kernelspec": {
   "display_name": "Python 3",
   "language": "python",
   "name": "python3"
  },
  "language_info": {
   "codemirror_mode": {
    "name": "ipython",
    "version": 3
   },
   "file_extension": ".py",
   "mimetype": "text/x-python",
   "name": "python",
   "nbconvert_exporter": "python",
   "pygments_lexer": "ipython3",
   "version": "3.6.5"
  }
 },
 "nbformat": 4,
 "nbformat_minor": 4
}
