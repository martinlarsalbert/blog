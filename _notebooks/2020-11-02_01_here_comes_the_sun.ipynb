{
 "cells": [
  {
   "cell_type": "markdown",
   "metadata": {},
   "source": [
    "# Here comes the sun\n",
    "> When does the sun rise and set? I have a fuzzy idea about how this works, here I want to make it a little bit less fuzzy.\n",
    "\n",
    "- toc: true\n",
    "- branch: master\n",
    "- badges: true\n",
    "- comments: true\n",
    "- categories: [math]\n",
    "- image: https://exitoina.uol.com.br/media/_versions/beatlessss_widelg.jpg\n",
    "- hide: false\n",
    "- search_exclude: true\n",
    "- metadata_key1: metadata_value1\n",
    "- metadata_key2: metadata_value2"
   ]
  },
  {
   "cell_type": "markdown",
   "metadata": {},
   "source": [
    "## Using suntime package\n",
    "Eventhough this could be cheating, it's a good starting point to get a feel...\n",
    "This example is taken straight from the documentation:"
   ]
  },
  {
   "cell_type": "code",
   "execution_count": 22,
   "metadata": {},
   "outputs": [
    {
     "name": "stdout",
     "output_type": "stream",
     "text": [
      "Today (2020-11-02) at Warsaw the sun raised at 05:32 and get down at 15:07 UTC\n",
      "On 2014-10-03 the sun at Warsaw raised at 06:39 and get down at 18:10.\n",
      "Error: The sun never rises on this location (on the specified date).\n"
     ]
    }
   ],
   "source": [
    "#collapse\n",
    "import datetime\n",
    "from suntime import Sun, SunTimeException\n",
    "\n",
    "latitude = 51.21\n",
    "longitude = 21.01\n",
    "\n",
    "sun = Sun(latitude, longitude)\n",
    "\n",
    "# Get today's sunrise and sunset in UTC\n",
    "today_sr = sun.get_sunrise_time()\n",
    "today_ss = sun.get_sunset_time()\n",
    "print('Today ({}) at Warsaw the sun raised at {} and get down at {} UTC'.\n",
    "      format(datetime.datetime.today().strftime('%Y-%m-%d'), today_sr.strftime('%H:%M'), today_ss.strftime('%H:%M')))\n",
    "\n",
    "# On a special date in your machine's local time zone\n",
    "abd = datetime.date(2014, 10, 3)\n",
    "abd_sr = sun.get_local_sunrise_time(abd)\n",
    "abd_ss = sun.get_local_sunset_time(abd)\n",
    "print('On {} the sun at Warsaw raised at {} and get down at {}.'.\n",
    "      format(abd, abd_sr.strftime('%H:%M'), abd_ss.strftime('%H:%M')))\n",
    "\n",
    "# Error handling (no sunset or sunrise on given location)\n",
    "latitude = 87.55\n",
    "longitude = 0.1\n",
    "sun = Sun(latitude, longitude)\n",
    "try:\n",
    "    abd_sr = sun.get_local_sunrise_time(abd)\n",
    "    abd_ss = sun.get_local_sunset_time(abd)\n",
    "    print('On {} at somewhere in the north the sun raised at {} and get down at {}.'.\n",
    "          format(abd, abd_sr.strftime('%H:%M'), abd_ss.strftime('%H:%M')))\n",
    "except SunTimeException as e:\n",
    "    print(\"Error: {0}.\".format(e))"
   ]
  },
  {
   "cell_type": "markdown",
   "metadata": {},
   "source": [
    "I currently live here: 58°04'00.8\"N 11°42'10.7\"E\n",
    "\n",
    "This one can be converted to [Decimal degrees](https://en.wikipedia.org/wiki/Decimal_degrees)."
   ]
  },
  {
   "cell_type": "code",
   "execution_count": 37,
   "metadata": {},
   "outputs": [],
   "source": [
    "def longitude_str_to_num(s:str):\n",
    "    \"\"\"\n",
    "    Convert a longitude or latitude in the following format : 58°04'00.8\"N\n",
    "    to degrees\n",
    "    \"\"\"\n",
    "    \n",
    "    s1,s_=s.split('°')\n",
    "    s2,s_=s_.split(\"'\")\n",
    "    s3,s_=s_.split('\"')\n",
    "    \n",
    "    \n",
    "    D = float(s1)\n",
    "    M = float(s2)\n",
    "    S = float(s3)\n",
    "    \n",
    "    D_deg = D + M/60 + S/3600\n",
    "    \n",
    "    if (s_=='W') or (s_=='S'):\n",
    "        D_deg*=-1\n",
    "    \n",
    "    \n",
    "    return D_deg"
   ]
  },
  {
   "cell_type": "code",
   "execution_count": 38,
   "metadata": {},
   "outputs": [
    {
     "data": {
      "text/plain": [
       "58.06688888888889"
      ]
     },
     "execution_count": 38,
     "metadata": {},
     "output_type": "execute_result"
    }
   ],
   "source": [
    "latitude = longitude_str_to_num('58°04\\'00.8\"N')\n",
    "latitude"
   ]
  },
  {
   "cell_type": "code",
   "execution_count": 39,
   "metadata": {},
   "outputs": [
    {
     "data": {
      "text/plain": [
       "11.702972222222222"
      ]
     },
     "execution_count": 39,
     "metadata": {},
     "output_type": "execute_result"
    }
   ],
   "source": [
    "longitude = longitude_str_to_num('11°42\\'10.7\"E')\n",
    "longitude"
   ]
  },
  {
   "cell_type": "code",
   "execution_count": 40,
   "metadata": {},
   "outputs": [],
   "source": [
    "sun = Sun(latitude, longitude)"
   ]
  },
  {
   "cell_type": "code",
   "execution_count": 59,
   "metadata": {},
   "outputs": [
    {
     "data": {
      "text/plain": [
       "datetime.datetime(2020, 11, 2, 6, 31, tzinfo=tzutc())"
      ]
     },
     "execution_count": 59,
     "metadata": {},
     "output_type": "execute_result"
    }
   ],
   "source": [
    "sunrise_time = sun.get_sunrise_time()\n",
    "sunrise_time"
   ]
  },
  {
   "cell_type": "code",
   "execution_count": 60,
   "metadata": {
    "scrolled": true
   },
   "outputs": [
    {
     "data": {
      "text/plain": [
       "datetime.datetime(2020, 11, 2, 15, 21, tzinfo=tzutc())"
      ]
     },
     "execution_count": 60,
     "metadata": {},
     "output_type": "execute_result"
    }
   ],
   "source": [
    "sunset_time = sun.get_sunset_time()\n",
    "sunset_time"
   ]
  },
  {
   "cell_type": "markdown",
   "metadata": {},
   "source": [
    "Getting these times in local time zone is somewhat messy:"
   ]
  },
  {
   "cell_type": "code",
   "execution_count": 65,
   "metadata": {},
   "outputs": [
    {
     "data": {
      "text/plain": [
       "datetime.datetime(2020, 11, 2, 7, 31, tzinfo=<DstTzInfo 'Europe/Stockholm' CET+1:00:00 STD>)"
      ]
     },
     "execution_count": 65,
     "metadata": {},
     "output_type": "execute_result"
    }
   ],
   "source": [
    "import pytz\n",
    "timezone = pytz.timezone(r'Europe/Stockholm')\n",
    "sunrise_time.replace(tzinfo=pytz.utc).astimezone(timezone)"
   ]
  },
  {
   "cell_type": "markdown",
   "metadata": {},
   "source": [
    "## Own implementation"
   ]
  },
  {
   "cell_type": "markdown",
   "metadata": {},
   "source": [
    "The [Sun rise equation](https://en.wikipedia.org/wiki/Sunrise_equation) is written:\n",
    "$$\\cos \\omega_{\\circ}=-\\tan \\phi \\times \\tan \\delta$$\n",
    "where $\\phi$ is the latitude and $\\delta$ is the earth inclination angle to the sun, which changes over the seasons.\n",
    "\n",
    "The [declination-angle](https://www.pveducation.org/pvcdrom/properties-of-sunlight/declination-angle) can be calculated:\n",
    "$$ \\delta=-23.45^{\\circ} \\times \\cos \\left(\\frac{360}{365} \\times(d+10)\\right) $$\n",
    "where $d=1$ at january 1st.\n",
    "\n",
    "Putting it all together:"
   ]
  },
  {
   "cell_type": "code",
   "execution_count": 76,
   "metadata": {},
   "outputs": [],
   "source": [
    "import numpy as np\n",
    "\n",
    "def calculate_declination_angle(day):\n",
    "    delta_deg = -23.45*np.cos(360/365*(day+10))\n",
    "    delta = np.deg2rad(delta_deg)    \n",
    "    return delta\n",
    "\n",
    "def sun_rise_time(latitude:float, day:int):\n",
    "    \"\"\"\n",
    "    param: latitude \n",
    "    param: day, january 1 --> day=1\n",
    "    \"\"\"\n",
    "    delta = calculate_declination_angle(day=day)\n",
    "    phi=latitude\n",
    "    omega0 = np.arccos(-np.tan(phi)*np.tan(delta))\n",
    "    \n",
    "    return omega0\n",
    "    "
   ]
  },
  {
   "cell_type": "code",
   "execution_count": 77,
   "metadata": {},
   "outputs": [
    {
     "data": {
      "text/plain": [
       "0.05964773709497602"
      ]
     },
     "execution_count": 77,
     "metadata": {},
     "output_type": "execute_result"
    }
   ],
   "source": [
    "day=1\n",
    "calculate_declination_angle(day=day)"
   ]
  },
  {
   "cell_type": "code",
   "execution_count": null,
   "metadata": {},
   "outputs": [],
   "source": []
  }
 ],
 "metadata": {
  "kernelspec": {
   "display_name": "Python 3",
   "language": "python",
   "name": "python3"
  },
  "language_info": {
   "codemirror_mode": {
    "name": "ipython",
    "version": 3
   },
   "file_extension": ".py",
   "mimetype": "text/x-python",
   "name": "python",
   "nbconvert_exporter": "python",
   "pygments_lexer": "ipython3",
   "version": "3.6.5"
  }
 },
 "nbformat": 4,
 "nbformat_minor": 4
}
