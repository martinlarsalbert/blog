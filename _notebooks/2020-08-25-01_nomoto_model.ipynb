{
 "cells": [
  {
   "cell_type": "markdown",
   "metadata": {},
   "source": [
    "# First order Nomoto model for ship maneuvering dynamics\n",
    "> Implementation of the so called first order Nomoto model for ship maneuvering dynamics\n",
    "\n",
    "- toc: true\n",
    "- branch: master\n",
    "- badges: true\n",
    "- comments: true\n",
    "- categories: [simulation, dynamics, spring mass damper]\n",
    "- image: images/nomoto.png\n",
    "- hide: false\n",
    "- search_exclude: true\n",
    "- metadata_key1: metadata_value1\n",
    "- metadata_key2: metadata_value2"
   ]
  },
  {
   "cell_type": "markdown",
   "metadata": {},
   "source": [
    "The first order Nomoto model can be written as:\n",
    "$$ K \\cdot \\delta=r+T_{1} \\cdot \\dot{r}+T_{2} \\cdot \\ddot{r} $$\n",
    "where $r$ is yaw rate with its time derivatives and $\\delta$ is the rudder angle. $K$, $T_{1}$\n",
    " and $T_{1}$ are the coefficients describing the hydrodynamics of the ship."
   ]
  },
  {
   "cell_type": "code",
   "execution_count": null,
   "metadata": {},
   "outputs": [],
   "source": []
  }
 ],
 "metadata": {
  "kernelspec": {
   "display_name": "Python 3",
   "language": "python",
   "name": "python3"
  },
  "language_info": {
   "codemirror_mode": {
    "name": "ipython",
    "version": 3
   },
   "file_extension": ".py",
   "mimetype": "text/x-python",
   "name": "python",
   "nbconvert_exporter": "python",
   "pygments_lexer": "ipython3",
   "version": "3.5.4"
  }
 },
 "nbformat": 4,
 "nbformat_minor": 2
}
