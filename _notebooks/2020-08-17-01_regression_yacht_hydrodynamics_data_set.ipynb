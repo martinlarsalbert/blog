{
 "cells": [
  {
   "cell_type": "markdown",
   "metadata": {},
   "source": [
    "# Regression on yacht hydrodynamics data set\n",
    "> When doing machine learning most of the time is spend collecting and cleaning the data. I decided to do some practicing on some existing open data from Technical University of Delft. The data contain residuary resistance of sailing yachts.\n",
    "\n",
    "- toc: true\n",
    "- branch: master\n",
    "- badges: true\n",
    "- comments: true\n",
    "- categories: [machine learning, regression]\n",
    "- image: https://www.blur.se/images/df4.jpg\n",
    "- hide: false\n",
    "- search_exclude: true\n",
    "- metadata_key1: metadata_value1\n",
    "- metadata_key2: metadata_value2"
   ]
  },
  {
   "cell_type": "code",
   "execution_count": 1,
   "metadata": {},
   "outputs": [],
   "source": [
    "#hide\n",
    "import warnings\n",
    "warnings.filterwarnings(\"ignore\")"
   ]
  },
  {
   "cell_type": "markdown",
   "metadata": {},
   "source": [
    "![](https://www.blur.se/images/df4.jpg)\n",
    "I found this open [data](http://archive.ics.uci.edu/ml/datasets/Yacht+Hydrodynamics#) from from Technical University of Delft."
   ]
  },
  {
   "cell_type": "code",
   "execution_count": 3,
   "metadata": {},
   "outputs": [],
   "source": [
    "#collapse\n",
    "import sklearn\n",
    "import numpy as np\n",
    "import pandas as pd\n",
    "import matplotlib.pyplot as plt\n",
    "import seaborn as sns\n",
    "from sklearn.datasets import make_regression\n",
    "from sklearn.linear_model import LinearRegression\n",
    "from sklearn.model_selection import train_test_split\n",
    "import altair as alt\n",
    "from io import StringIO\n",
    "import re\n",
    "import urllib"
   ]
  },
  {
   "cell_type": "markdown",
   "metadata": {},
   "source": [
    "## 5-Step Systematic Process\n",
    "I will approach this by trying to following the the following process:\n",
    "1. Define the Problem\n",
    "2. Prepare Data\n",
    "3. Spot Check Algorithms\n",
    "4. Improve Results\n",
    "5. Present Results\n",
    "\n",
    "As described [here]((https://machinelearningmastery.com/process-for-working-through-machine-learning-problems/))\n",
    "\n",
    "\n",
    "\n"
   ]
  },
  {
   "cell_type": "markdown",
   "metadata": {},
   "source": [
    "# 1. Define the Problem\n",
    "\n",
    "### Step 1: What is the problem? Describe the problem informally and formally and list assumptions and similar problems.\n",
    "To predict the residuary resistance of sailing yachts to be used in the the initial design stage.\n",
    "\n",
    "### Step 2: Why does the problem need to be solved? List your motivation for solving the problem, the benefits a solution provides and how the solution will be used.\n",
    "Martin needs practice.\n",
    "\n",
    "### Step 3: How would I solve the problem? Describe how the problem would be solved manually to flush domain knowledge.\n",
    "Regression on the Delft data set will be conducted. The regression will be performed initially in the most simplistic way, where each row in the data will be treated as a unique individual. But in reality the rows are of course connected to each other if they are from the same ship. This will maybe be handled at a later stage.\n"
   ]
  },
  {
   "cell_type": "markdown",
   "metadata": {},
   "source": [
    "# 2. Prepare Data\n",
    "I followed a process as described [here](https://machinelearningmastery.com/how-to-prepare-data-for-machine-learning/).\n",
    "\n",
    "### Step 1: Data Selection: \n",
    "Consider what data is available, what data is missing and what data can be removed.\n",
    "The Delft data will be used which comprises 308 full-scale experiments, which were performed at the Delft Ship Hydromechanics Laboratory for that purpose. These experiments include 22 different hull forms, derived from a parent form closely related to the Standfast 43 designed by Frans Maas. I think that all of the data can be used\n",
    "\n",
    "### Step 2: Data Preprocessing: \n",
    "Organize your selected data by formatting, cleaning and sampling from it."
   ]
  },
  {
   "cell_type": "markdown",
   "metadata": {},
   "source": [
    "#### Load data"
   ]
  },
  {
   "cell_type": "markdown",
   "metadata": {},
   "source": [
    "Columns:\n",
    "\n",
    "| Column | Variable  |Description |\n",
    "|--------|-----------|------------|\n",
    "|1.      | lcg       |Longitudinal position of the center of buoyancy, adimensional. |\n",
    "|2.      | cp        |Prismatic coefficient, adimensional.                           |\n",
    "|3.      | volume    |Length-displacement ratio, adimensional.                       | \n",
    "|4.      | b/d       |Beam-draught ratio, adimensional.                              |\n",
    "|5.      | l/b       |Length-beam ratio, adimensional.                               |\n",
    "|6.      | fn        |Froude number, adimensional.                                   |\n",
    "|7.      | r         |residuary resistance per unit weight of displacement, adimensional|\n"
   ]
  },
  {
   "cell_type": "code",
   "execution_count": 4,
   "metadata": {},
   "outputs": [],
   "source": [
    "#collapse\n",
    "columns = [\n",
    "'lcg',   \n",
    "'cp',    \n",
    "'volume',\n",
    "'b/d',   \n",
    "'l/b',   \n",
    "'fn',    \n",
    "'r', \n",
    "]\n",
    "\n",
    "data_url = r'http://archive.ics.uci.edu/ml/machine-learning-databases/00243/yacht_hydrodynamics.data'\n",
    "with urllib.request.urlopen(data_url) as file:\n",
    "    s_raw=file.read().decode(\"utf-8\")\n",
    "    \n",
    "# remove some dirt:\n",
    "regexp = re.compile(r' \\n', flags=re.DOTALL)\n",
    "s1 = regexp.sub('\\n', s_raw)\n",
    "\n",
    "regexp = re.compile(r' +', flags=re.DOTALL)\n",
    "s2 = regexp.sub(' ', s1)\n",
    "s2[0:200]\n",
    "s=s2\n",
    "\n",
    "data = StringIO(s)\n",
    "data = pd.read_csv(data, sep=' ', encoding='utf-8', names=columns)\n",
    "\n",
    "features = list(set(columns)-set(['r']))\n",
    "label = 'r'\n",
    "\n",
    "X=data[features].copy()\n",
    "y=data[label].copy()\n"
   ]
  },
  {
   "cell_type": "markdown",
   "metadata": {},
   "source": [
    "#### Initial look at data"
   ]
  },
  {
   "cell_type": "code",
   "execution_count": 5,
   "metadata": {},
   "outputs": [
    {
     "data": {
      "text/html": [
       "<div>\n",
       "<style scoped>\n",
       "    .dataframe tbody tr th:only-of-type {\n",
       "        vertical-align: middle;\n",
       "    }\n",
       "\n",
       "    .dataframe tbody tr th {\n",
       "        vertical-align: top;\n",
       "    }\n",
       "\n",
       "    .dataframe thead th {\n",
       "        text-align: right;\n",
       "    }\n",
       "</style>\n",
       "<table border=\"1\" class=\"dataframe\">\n",
       "  <thead>\n",
       "    <tr style=\"text-align: right;\">\n",
       "      <th></th>\n",
       "      <th>lcg</th>\n",
       "      <th>cp</th>\n",
       "      <th>volume</th>\n",
       "      <th>b/d</th>\n",
       "      <th>l/b</th>\n",
       "      <th>fn</th>\n",
       "      <th>r</th>\n",
       "    </tr>\n",
       "  </thead>\n",
       "  <tbody>\n",
       "    <tr>\n",
       "      <td>count</td>\n",
       "      <td>308.000000</td>\n",
       "      <td>308.000000</td>\n",
       "      <td>308.000000</td>\n",
       "      <td>308.000000</td>\n",
       "      <td>308.000000</td>\n",
       "      <td>308.000000</td>\n",
       "      <td>308.000000</td>\n",
       "    </tr>\n",
       "    <tr>\n",
       "      <td>mean</td>\n",
       "      <td>-2.381818</td>\n",
       "      <td>0.564136</td>\n",
       "      <td>4.788636</td>\n",
       "      <td>3.936818</td>\n",
       "      <td>3.206818</td>\n",
       "      <td>0.287500</td>\n",
       "      <td>10.495357</td>\n",
       "    </tr>\n",
       "    <tr>\n",
       "      <td>std</td>\n",
       "      <td>1.513219</td>\n",
       "      <td>0.023290</td>\n",
       "      <td>0.253057</td>\n",
       "      <td>0.548193</td>\n",
       "      <td>0.247998</td>\n",
       "      <td>0.100942</td>\n",
       "      <td>15.160490</td>\n",
       "    </tr>\n",
       "    <tr>\n",
       "      <td>min</td>\n",
       "      <td>-5.000000</td>\n",
       "      <td>0.530000</td>\n",
       "      <td>4.340000</td>\n",
       "      <td>2.810000</td>\n",
       "      <td>2.730000</td>\n",
       "      <td>0.125000</td>\n",
       "      <td>0.010000</td>\n",
       "    </tr>\n",
       "    <tr>\n",
       "      <td>25%</td>\n",
       "      <td>-2.400000</td>\n",
       "      <td>0.546000</td>\n",
       "      <td>4.770000</td>\n",
       "      <td>3.750000</td>\n",
       "      <td>3.150000</td>\n",
       "      <td>0.200000</td>\n",
       "      <td>0.777500</td>\n",
       "    </tr>\n",
       "    <tr>\n",
       "      <td>50%</td>\n",
       "      <td>-2.300000</td>\n",
       "      <td>0.565000</td>\n",
       "      <td>4.780000</td>\n",
       "      <td>3.955000</td>\n",
       "      <td>3.150000</td>\n",
       "      <td>0.287500</td>\n",
       "      <td>3.065000</td>\n",
       "    </tr>\n",
       "    <tr>\n",
       "      <td>75%</td>\n",
       "      <td>-2.300000</td>\n",
       "      <td>0.574000</td>\n",
       "      <td>5.100000</td>\n",
       "      <td>4.170000</td>\n",
       "      <td>3.510000</td>\n",
       "      <td>0.375000</td>\n",
       "      <td>12.815000</td>\n",
       "    </tr>\n",
       "    <tr>\n",
       "      <td>max</td>\n",
       "      <td>0.000000</td>\n",
       "      <td>0.600000</td>\n",
       "      <td>5.140000</td>\n",
       "      <td>5.350000</td>\n",
       "      <td>3.640000</td>\n",
       "      <td>0.450000</td>\n",
       "      <td>62.420000</td>\n",
       "    </tr>\n",
       "  </tbody>\n",
       "</table>\n",
       "</div>"
      ],
      "text/plain": [
       "              lcg          cp      volume         b/d         l/b          fn  \\\n",
       "count  308.000000  308.000000  308.000000  308.000000  308.000000  308.000000   \n",
       "mean    -2.381818    0.564136    4.788636    3.936818    3.206818    0.287500   \n",
       "std      1.513219    0.023290    0.253057    0.548193    0.247998    0.100942   \n",
       "min     -5.000000    0.530000    4.340000    2.810000    2.730000    0.125000   \n",
       "25%     -2.400000    0.546000    4.770000    3.750000    3.150000    0.200000   \n",
       "50%     -2.300000    0.565000    4.780000    3.955000    3.150000    0.287500   \n",
       "75%     -2.300000    0.574000    5.100000    4.170000    3.510000    0.375000   \n",
       "max      0.000000    0.600000    5.140000    5.350000    3.640000    0.450000   \n",
       "\n",
       "                r  \n",
       "count  308.000000  \n",
       "mean    10.495357  \n",
       "std     15.160490  \n",
       "min      0.010000  \n",
       "25%      0.777500  \n",
       "50%      3.065000  \n",
       "75%     12.815000  \n",
       "max     62.420000  "
      ]
     },
     "execution_count": 5,
     "metadata": {},
     "output_type": "execute_result"
    }
   ],
   "source": [
    "#hide\n",
    "data.describe()"
   ]
  },
  {
   "cell_type": "code",
   "execution_count": 6,
   "metadata": {
    "scrolled": true
   },
   "outputs": [
    {
     "data": {
      "text/html": [
       "\n",
       "<div id=\"altair-viz-4a50faf567494a8c8a5c823ec0b68ea7\"></div>\n",
       "<script type=\"text/javascript\">\n",
       "  (function(spec, embedOpt){\n",
       "    const outputDiv = document.getElementById(\"altair-viz-4a50faf567494a8c8a5c823ec0b68ea7\");\n",
       "    const paths = {\n",
       "      \"vega\": \"https://cdn.jsdelivr.net/npm//vega@5?noext\",\n",
       "      \"vega-lib\": \"https://cdn.jsdelivr.net/npm//vega-lib?noext\",\n",
       "      \"vega-lite\": \"https://cdn.jsdelivr.net/npm//vega-lite@4.0.2?noext\",\n",
       "      \"vega-embed\": \"https://cdn.jsdelivr.net/npm//vega-embed@6?noext\",\n",
       "    };\n",
       "\n",
       "    function loadScript(lib) {\n",
       "      return new Promise(function(resolve, reject) {\n",
       "        var s = document.createElement('script');\n",
       "        s.src = paths[lib];\n",
       "        s.async = true;\n",
       "        s.onload = () => resolve(paths[lib]);\n",
       "        s.onerror = () => reject(`Error loading script: ${paths[lib]}`);\n",
       "        document.getElementsByTagName(\"head\")[0].appendChild(s);\n",
       "      });\n",
       "    }\n",
       "\n",
       "    function showError(err) {\n",
       "      outputDiv.innerHTML = `<div class=\"error\" style=\"color:red;\">${err}</div>`;\n",
       "      throw err;\n",
       "    }\n",
       "\n",
       "    function displayChart(vegaEmbed) {\n",
       "      vegaEmbed(outputDiv, spec, embedOpt)\n",
       "        .catch(err => showError(`Javascript Error: ${err.message}<br>This usually means there's a typo in your chart specification. See the javascript console for the full traceback.`));\n",
       "    }\n",
       "\n",
       "    if(typeof define === \"function\" && define.amd) {\n",
       "      requirejs.config({paths});\n",
       "      require([\"vega-embed\"], displayChart, err => showError(`Error loading script: ${err.message}`));\n",
       "    } else if (typeof vegaEmbed === \"function\") {\n",
       "      displayChart(vegaEmbed);\n",
       "    } else {\n",
       "      loadScript(\"vega\")\n",
       "        .then(() => loadScript(\"vega-lite\"))\n",
       "        .then(() => loadScript(\"vega-embed\"))\n",
       "        .catch(showError)\n",
       "        .then(() => displayChart(vegaEmbed));\n",
       "    }\n",
       "  })({\"spec\": {\"data\": {\"name\": \"data-791db167d20977a01be9532e297efb40\"}, \"width\": 100, \"mark\": \"circle\", \"selection\": {\"selector001\": {\"encodings\": [\"x\", \"y\"], \"type\": \"interval\", \"bind\": \"scales\"}}, \"encoding\": {\"y\": {\"type\": \"quantitative\", \"field\": {\"repeat\": \"row\"}}, \"x\": {\"type\": \"quantitative\", \"field\": {\"repeat\": \"column\"}, \"scale\": {\"zero\": false}}}, \"height\": 150}, \"repeat\": {\"column\": [\"b/d\", \"l/b\", \"lcg\", \"fn\", \"cp\", \"volume\"], \"row\": [\"r\"]}, \"config\": {\"view\": {\"continuousWidth\": 400, \"continuousHeight\": 300}}, \"$schema\": \"https://vega.github.io/schema/vega-lite/v4.0.2.json\", \"datasets\": {\"data-791db167d20977a01be9532e297efb40\": [{\"b/d\": 3.99, \"r\": 0.11, \"l/b\": 3.17, \"fn\": 0.125, \"volume\": 4.78, \"cp\": 0.568, \"lcg\": -2.3}, {\"b/d\": 3.99, \"r\": 0.27, \"l/b\": 3.17, \"fn\": 0.15, \"volume\": 4.78, \"cp\": 0.568, \"lcg\": -2.3}, {\"b/d\": 3.99, \"r\": 0.47, \"l/b\": 3.17, \"fn\": 0.175, \"volume\": 4.78, \"cp\": 0.568, \"lcg\": -2.3}, {\"b/d\": 3.99, \"r\": 0.78, \"l/b\": 3.17, \"fn\": 0.2, \"volume\": 4.78, \"cp\": 0.568, \"lcg\": -2.3}, {\"b/d\": 3.99, \"r\": 1.18, \"l/b\": 3.17, \"fn\": 0.225, \"volume\": 4.78, \"cp\": 0.568, \"lcg\": -2.3}, {\"b/d\": 3.99, \"r\": 1.82, \"l/b\": 3.17, \"fn\": 0.25, \"volume\": 4.78, \"cp\": 0.568, \"lcg\": -2.3}, {\"b/d\": 3.99, \"r\": 2.61, \"l/b\": 3.17, \"fn\": 0.275, \"volume\": 4.78, \"cp\": 0.568, \"lcg\": -2.3}, {\"b/d\": 3.99, \"r\": 3.76, \"l/b\": 3.17, \"fn\": 0.3, \"volume\": 4.78, \"cp\": 0.568, \"lcg\": -2.3}, {\"b/d\": 3.99, \"r\": 4.99, \"l/b\": 3.17, \"fn\": 0.325, \"volume\": 4.78, \"cp\": 0.568, \"lcg\": -2.3}, {\"b/d\": 3.99, \"r\": 7.16, \"l/b\": 3.17, \"fn\": 0.35, \"volume\": 4.78, \"cp\": 0.568, \"lcg\": -2.3}, {\"b/d\": 3.99, \"r\": 11.93, \"l/b\": 3.17, \"fn\": 0.375, \"volume\": 4.78, \"cp\": 0.568, \"lcg\": -2.3}, {\"b/d\": 3.99, \"r\": 20.11, \"l/b\": 3.17, \"fn\": 0.4, \"volume\": 4.78, \"cp\": 0.568, \"lcg\": -2.3}, {\"b/d\": 3.99, \"r\": 32.75, \"l/b\": 3.17, \"fn\": 0.425, \"volume\": 4.78, \"cp\": 0.568, \"lcg\": -2.3}, {\"b/d\": 3.99, \"r\": 49.49, \"l/b\": 3.17, \"fn\": 0.45, \"volume\": 4.78, \"cp\": 0.568, \"lcg\": -2.3}, {\"b/d\": 3.04, \"r\": 0.04, \"l/b\": 3.64, \"fn\": 0.125, \"volume\": 4.78, \"cp\": 0.569, \"lcg\": -2.3}, {\"b/d\": 3.04, \"r\": 0.17, \"l/b\": 3.64, \"fn\": 0.15, \"volume\": 4.78, \"cp\": 0.569, \"lcg\": -2.3}, {\"b/d\": 3.04, \"r\": 0.37, \"l/b\": 3.64, \"fn\": 0.175, \"volume\": 4.78, \"cp\": 0.569, \"lcg\": -2.3}, {\"b/d\": 3.04, \"r\": 0.66, \"l/b\": 3.64, \"fn\": 0.2, \"volume\": 4.78, \"cp\": 0.569, \"lcg\": -2.3}, {\"b/d\": 3.04, \"r\": 1.06, \"l/b\": 3.64, \"fn\": 0.225, \"volume\": 4.78, \"cp\": 0.569, \"lcg\": -2.3}, {\"b/d\": 3.04, \"r\": 1.59, \"l/b\": 3.64, \"fn\": 0.25, \"volume\": 4.78, \"cp\": 0.569, \"lcg\": -2.3}, {\"b/d\": 3.04, \"r\": 2.33, \"l/b\": 3.64, \"fn\": 0.275, \"volume\": 4.78, \"cp\": 0.569, \"lcg\": -2.3}, {\"b/d\": 3.04, \"r\": 3.29, \"l/b\": 3.64, \"fn\": 0.3, \"volume\": 4.78, \"cp\": 0.569, \"lcg\": -2.3}, {\"b/d\": 3.04, \"r\": 4.61, \"l/b\": 3.64, \"fn\": 0.325, \"volume\": 4.78, \"cp\": 0.569, \"lcg\": -2.3}, {\"b/d\": 3.04, \"r\": 7.11, \"l/b\": 3.64, \"fn\": 0.35, \"volume\": 4.78, \"cp\": 0.569, \"lcg\": -2.3}, {\"b/d\": 3.04, \"r\": 11.99, \"l/b\": 3.64, \"fn\": 0.375, \"volume\": 4.78, \"cp\": 0.569, \"lcg\": -2.3}, {\"b/d\": 3.04, \"r\": 21.09, \"l/b\": 3.64, \"fn\": 0.4, \"volume\": 4.78, \"cp\": 0.569, \"lcg\": -2.3}, {\"b/d\": 3.04, \"r\": 35.01, \"l/b\": 3.64, \"fn\": 0.425, \"volume\": 4.78, \"cp\": 0.569, \"lcg\": -2.3}, {\"b/d\": 3.04, \"r\": 51.8, \"l/b\": 3.64, \"fn\": 0.45, \"volume\": 4.78, \"cp\": 0.569, \"lcg\": -2.3}, {\"b/d\": 5.35, \"r\": 0.09, \"l/b\": 2.76, \"fn\": 0.125, \"volume\": 4.78, \"cp\": 0.565, \"lcg\": -2.3}, {\"b/d\": 5.35, \"r\": 0.29, \"l/b\": 2.76, \"fn\": 0.15, \"volume\": 4.78, \"cp\": 0.565, \"lcg\": -2.3}, {\"b/d\": 5.35, \"r\": 0.56, \"l/b\": 2.76, \"fn\": 0.175, \"volume\": 4.78, \"cp\": 0.565, \"lcg\": -2.3}, {\"b/d\": 5.35, \"r\": 0.86, \"l/b\": 2.76, \"fn\": 0.2, \"volume\": 4.78, \"cp\": 0.565, \"lcg\": -2.3}, {\"b/d\": 5.35, \"r\": 1.31, \"l/b\": 2.76, \"fn\": 0.225, \"volume\": 4.78, \"cp\": 0.565, \"lcg\": -2.3}, {\"b/d\": 5.35, \"r\": 1.99, \"l/b\": 2.76, \"fn\": 0.25, \"volume\": 4.78, \"cp\": 0.565, \"lcg\": -2.3}, {\"b/d\": 5.35, \"r\": 2.94, \"l/b\": 2.76, \"fn\": 0.275, \"volume\": 4.78, \"cp\": 0.565, \"lcg\": -2.3}, {\"b/d\": 5.35, \"r\": 4.21, \"l/b\": 2.76, \"fn\": 0.3, \"volume\": 4.78, \"cp\": 0.565, \"lcg\": -2.3}, {\"b/d\": 5.35, \"r\": 5.54, \"l/b\": 2.76, \"fn\": 0.325, \"volume\": 4.78, \"cp\": 0.565, \"lcg\": -2.3}, {\"b/d\": 5.35, \"r\": 8.25, \"l/b\": 2.76, \"fn\": 0.35, \"volume\": 4.78, \"cp\": 0.565, \"lcg\": -2.3}, {\"b/d\": 5.35, \"r\": 13.08, \"l/b\": 2.76, \"fn\": 0.375, \"volume\": 4.78, \"cp\": 0.565, \"lcg\": -2.3}, {\"b/d\": 5.35, \"r\": 21.4, \"l/b\": 2.76, \"fn\": 0.4, \"volume\": 4.78, \"cp\": 0.565, \"lcg\": -2.3}, {\"b/d\": 5.35, \"r\": 33.14, \"l/b\": 2.76, \"fn\": 0.425, \"volume\": 4.78, \"cp\": 0.565, \"lcg\": -2.3}, {\"b/d\": 5.35, \"r\": 50.14, \"l/b\": 2.76, \"fn\": 0.45, \"volume\": 4.78, \"cp\": 0.565, \"lcg\": -2.3}, {\"b/d\": 3.95, \"r\": 0.2, \"l/b\": 3.53, \"fn\": 0.125, \"volume\": 5.1, \"cp\": 0.564, \"lcg\": -2.3}, {\"b/d\": 3.95, \"r\": 0.35, \"l/b\": 3.53, \"fn\": 0.15, \"volume\": 5.1, \"cp\": 0.564, \"lcg\": -2.3}, {\"b/d\": 3.95, \"r\": 0.65, \"l/b\": 3.53, \"fn\": 0.175, \"volume\": 5.1, \"cp\": 0.564, \"lcg\": -2.3}, {\"b/d\": 3.95, \"r\": 0.93, \"l/b\": 3.53, \"fn\": 0.2, \"volume\": 5.1, \"cp\": 0.564, \"lcg\": -2.3}, {\"b/d\": 3.95, \"r\": 1.37, \"l/b\": 3.53, \"fn\": 0.225, \"volume\": 5.1, \"cp\": 0.564, \"lcg\": -2.3}, {\"b/d\": 3.95, \"r\": 1.97, \"l/b\": 3.53, \"fn\": 0.25, \"volume\": 5.1, \"cp\": 0.564, \"lcg\": -2.3}, {\"b/d\": 3.95, \"r\": 2.83, \"l/b\": 3.53, \"fn\": 0.275, \"volume\": 5.1, \"cp\": 0.564, \"lcg\": -2.3}, {\"b/d\": 3.95, \"r\": 3.99, \"l/b\": 3.53, \"fn\": 0.3, \"volume\": 5.1, \"cp\": 0.564, \"lcg\": -2.3}, {\"b/d\": 3.95, \"r\": 5.19, \"l/b\": 3.53, \"fn\": 0.325, \"volume\": 5.1, \"cp\": 0.564, \"lcg\": -2.3}, {\"b/d\": 3.95, \"r\": 8.03, \"l/b\": 3.53, \"fn\": 0.35, \"volume\": 5.1, \"cp\": 0.564, \"lcg\": -2.3}, {\"b/d\": 3.95, \"r\": 12.86, \"l/b\": 3.53, \"fn\": 0.375, \"volume\": 5.1, \"cp\": 0.564, \"lcg\": -2.3}, {\"b/d\": 3.95, \"r\": 21.51, \"l/b\": 3.53, \"fn\": 0.4, \"volume\": 5.1, \"cp\": 0.564, \"lcg\": -2.3}, {\"b/d\": 3.95, \"r\": 33.97, \"l/b\": 3.53, \"fn\": 0.425, \"volume\": 5.1, \"cp\": 0.564, \"lcg\": -2.3}, {\"b/d\": 3.95, \"r\": 50.36, \"l/b\": 3.53, \"fn\": 0.45, \"volume\": 5.1, \"cp\": 0.564, \"lcg\": -2.3}, {\"b/d\": 3.96, \"r\": 0.2, \"l/b\": 2.76, \"fn\": 0.125, \"volume\": 4.36, \"cp\": 0.574, \"lcg\": -2.4}, {\"b/d\": 3.96, \"r\": 0.35, \"l/b\": 2.76, \"fn\": 0.15, \"volume\": 4.36, \"cp\": 0.574, \"lcg\": -2.4}, {\"b/d\": 3.96, \"r\": 0.65, \"l/b\": 2.76, \"fn\": 0.175, \"volume\": 4.36, \"cp\": 0.574, \"lcg\": -2.4}, {\"b/d\": 3.96, \"r\": 0.93, \"l/b\": 2.76, \"fn\": 0.2, \"volume\": 4.36, \"cp\": 0.574, \"lcg\": -2.4}, {\"b/d\": 3.96, \"r\": 1.37, \"l/b\": 2.76, \"fn\": 0.225, \"volume\": 4.36, \"cp\": 0.574, \"lcg\": -2.4}, {\"b/d\": 3.96, \"r\": 1.97, \"l/b\": 2.76, \"fn\": 0.25, \"volume\": 4.36, \"cp\": 0.574, \"lcg\": -2.4}, {\"b/d\": 3.96, \"r\": 2.83, \"l/b\": 2.76, \"fn\": 0.275, \"volume\": 4.36, \"cp\": 0.574, \"lcg\": -2.4}, {\"b/d\": 3.96, \"r\": 3.99, \"l/b\": 2.76, \"fn\": 0.3, \"volume\": 4.36, \"cp\": 0.574, \"lcg\": -2.4}, {\"b/d\": 3.96, \"r\": 5.19, \"l/b\": 2.76, \"fn\": 0.325, \"volume\": 4.36, \"cp\": 0.574, \"lcg\": -2.4}, {\"b/d\": 3.96, \"r\": 8.03, \"l/b\": 2.76, \"fn\": 0.35, \"volume\": 4.36, \"cp\": 0.574, \"lcg\": -2.4}, {\"b/d\": 3.96, \"r\": 12.86, \"l/b\": 2.76, \"fn\": 0.375, \"volume\": 4.36, \"cp\": 0.574, \"lcg\": -2.4}, {\"b/d\": 3.96, \"r\": 21.51, \"l/b\": 2.76, \"fn\": 0.4, \"volume\": 4.36, \"cp\": 0.574, \"lcg\": -2.4}, {\"b/d\": 3.96, \"r\": 33.97, \"l/b\": 2.76, \"fn\": 0.425, \"volume\": 4.36, \"cp\": 0.574, \"lcg\": -2.4}, {\"b/d\": 3.96, \"r\": 50.36, \"l/b\": 2.76, \"fn\": 0.45, \"volume\": 4.36, \"cp\": 0.574, \"lcg\": -2.4}, {\"b/d\": 2.98, \"r\": 0.12, \"l/b\": 3.15, \"fn\": 0.125, \"volume\": 4.34, \"cp\": 0.568, \"lcg\": -2.4}, {\"b/d\": 2.98, \"r\": 0.26, \"l/b\": 3.15, \"fn\": 0.15, \"volume\": 4.34, \"cp\": 0.568, \"lcg\": -2.4}, {\"b/d\": 2.98, \"r\": 0.43, \"l/b\": 3.15, \"fn\": 0.175, \"volume\": 4.34, \"cp\": 0.568, \"lcg\": -2.4}, {\"b/d\": 2.98, \"r\": 0.69, \"l/b\": 3.15, \"fn\": 0.2, \"volume\": 4.34, \"cp\": 0.568, \"lcg\": -2.4}, {\"b/d\": 2.98, \"r\": 1.09, \"l/b\": 3.15, \"fn\": 0.225, \"volume\": 4.34, \"cp\": 0.568, \"lcg\": -2.4}, {\"b/d\": 2.98, \"r\": 1.67, \"l/b\": 3.15, \"fn\": 0.25, \"volume\": 4.34, \"cp\": 0.568, \"lcg\": -2.4}, {\"b/d\": 2.98, \"r\": 2.46, \"l/b\": 3.15, \"fn\": 0.275, \"volume\": 4.34, \"cp\": 0.568, \"lcg\": -2.4}, {\"b/d\": 2.98, \"r\": 3.43, \"l/b\": 3.15, \"fn\": 0.3, \"volume\": 4.34, \"cp\": 0.568, \"lcg\": -2.4}, {\"b/d\": 2.98, \"r\": 4.62, \"l/b\": 3.15, \"fn\": 0.325, \"volume\": 4.34, \"cp\": 0.568, \"lcg\": -2.4}, {\"b/d\": 2.98, \"r\": 6.86, \"l/b\": 3.15, \"fn\": 0.35, \"volume\": 4.34, \"cp\": 0.568, \"lcg\": -2.4}, {\"b/d\": 2.98, \"r\": 11.56, \"l/b\": 3.15, \"fn\": 0.375, \"volume\": 4.34, \"cp\": 0.568, \"lcg\": -2.4}, {\"b/d\": 2.98, \"r\": 20.63, \"l/b\": 3.15, \"fn\": 0.4, \"volume\": 4.34, \"cp\": 0.568, \"lcg\": -2.4}, {\"b/d\": 2.98, \"r\": 34.5, \"l/b\": 3.15, \"fn\": 0.425, \"volume\": 4.34, \"cp\": 0.568, \"lcg\": -2.4}, {\"b/d\": 2.98, \"r\": 54.23, \"l/b\": 3.15, \"fn\": 0.45, \"volume\": 4.34, \"cp\": 0.568, \"lcg\": -2.4}, {\"b/d\": 4.95, \"r\": 0.28, \"l/b\": 3.17, \"fn\": 0.125, \"volume\": 5.14, \"cp\": 0.562, \"lcg\": -2.3}, {\"b/d\": 4.95, \"r\": 0.44, \"l/b\": 3.17, \"fn\": 0.15, \"volume\": 5.14, \"cp\": 0.562, \"lcg\": -2.3}, {\"b/d\": 4.95, \"r\": 0.7, \"l/b\": 3.17, \"fn\": 0.175, \"volume\": 5.14, \"cp\": 0.562, \"lcg\": -2.3}, {\"b/d\": 4.95, \"r\": 1.07, \"l/b\": 3.17, \"fn\": 0.2, \"volume\": 5.14, \"cp\": 0.562, \"lcg\": -2.3}, {\"b/d\": 4.95, \"r\": 1.57, \"l/b\": 3.17, \"fn\": 0.225, \"volume\": 5.14, \"cp\": 0.562, \"lcg\": -2.3}, {\"b/d\": 4.95, \"r\": 2.23, \"l/b\": 3.17, \"fn\": 0.25, \"volume\": 5.14, \"cp\": 0.562, \"lcg\": -2.3}, {\"b/d\": 4.95, \"r\": 3.09, \"l/b\": 3.17, \"fn\": 0.275, \"volume\": 5.14, \"cp\": 0.562, \"lcg\": -2.3}, {\"b/d\": 4.95, \"r\": 4.09, \"l/b\": 3.17, \"fn\": 0.3, \"volume\": 5.14, \"cp\": 0.562, \"lcg\": -2.3}, {\"b/d\": 4.95, \"r\": 5.82, \"l/b\": 3.17, \"fn\": 0.325, \"volume\": 5.14, \"cp\": 0.562, \"lcg\": -2.3}, {\"b/d\": 4.95, \"r\": 8.28, \"l/b\": 3.17, \"fn\": 0.35, \"volume\": 5.14, \"cp\": 0.562, \"lcg\": -2.3}, {\"b/d\": 4.95, \"r\": 12.8, \"l/b\": 3.17, \"fn\": 0.375, \"volume\": 5.14, \"cp\": 0.562, \"lcg\": -2.3}, {\"b/d\": 4.95, \"r\": 20.41, \"l/b\": 3.17, \"fn\": 0.4, \"volume\": 5.14, \"cp\": 0.562, \"lcg\": -2.3}, {\"b/d\": 4.95, \"r\": 32.34, \"l/b\": 3.17, \"fn\": 0.425, \"volume\": 5.14, \"cp\": 0.562, \"lcg\": -2.3}, {\"b/d\": 4.95, \"r\": 47.29, \"l/b\": 3.17, \"fn\": 0.45, \"volume\": 5.14, \"cp\": 0.562, \"lcg\": -2.3}, {\"b/d\": 3.84, \"r\": 0.2, \"l/b\": 3.32, \"fn\": 0.125, \"volume\": 4.78, \"cp\": 0.585, \"lcg\": -2.4}, {\"b/d\": 3.84, \"r\": 0.38, \"l/b\": 3.32, \"fn\": 0.15, \"volume\": 4.78, \"cp\": 0.585, \"lcg\": -2.4}, {\"b/d\": 3.84, \"r\": 0.64, \"l/b\": 3.32, \"fn\": 0.175, \"volume\": 4.78, \"cp\": 0.585, \"lcg\": -2.4}, {\"b/d\": 3.84, \"r\": 0.97, \"l/b\": 3.32, \"fn\": 0.2, \"volume\": 4.78, \"cp\": 0.585, \"lcg\": -2.4}, {\"b/d\": 3.84, \"r\": 1.36, \"l/b\": 3.32, \"fn\": 0.225, \"volume\": 4.78, \"cp\": 0.585, \"lcg\": -2.4}, {\"b/d\": 3.84, \"r\": 1.98, \"l/b\": 3.32, \"fn\": 0.25, \"volume\": 4.78, \"cp\": 0.585, \"lcg\": -2.4}, {\"b/d\": 3.84, \"r\": 2.91, \"l/b\": 3.32, \"fn\": 0.275, \"volume\": 4.78, \"cp\": 0.585, \"lcg\": -2.4}, {\"b/d\": 3.84, \"r\": 4.35, \"l/b\": 3.32, \"fn\": 0.3, \"volume\": 4.78, \"cp\": 0.585, \"lcg\": -2.4}, {\"b/d\": 3.84, \"r\": 5.79, \"l/b\": 3.32, \"fn\": 0.325, \"volume\": 4.78, \"cp\": 0.585, \"lcg\": -2.4}, {\"b/d\": 3.84, \"r\": 8.04, \"l/b\": 3.32, \"fn\": 0.35, \"volume\": 4.78, \"cp\": 0.585, \"lcg\": -2.4}, {\"b/d\": 3.84, \"r\": 12.15, \"l/b\": 3.32, \"fn\": 0.375, \"volume\": 4.78, \"cp\": 0.585, \"lcg\": -2.4}, {\"b/d\": 3.84, \"r\": 19.18, \"l/b\": 3.32, \"fn\": 0.4, \"volume\": 4.78, \"cp\": 0.585, \"lcg\": -2.4}, {\"b/d\": 3.84, \"r\": 30.09, \"l/b\": 3.32, \"fn\": 0.425, \"volume\": 4.78, \"cp\": 0.585, \"lcg\": -2.4}, {\"b/d\": 3.84, \"r\": 44.38, \"l/b\": 3.32, \"fn\": 0.45, \"volume\": 4.78, \"cp\": 0.585, \"lcg\": -2.4}, {\"b/d\": 4.13, \"r\": 0.15, \"l/b\": 3.07, \"fn\": 0.125, \"volume\": 4.78, \"cp\": 0.546, \"lcg\": -2.2}, {\"b/d\": 4.13, \"r\": 0.32, \"l/b\": 3.07, \"fn\": 0.15, \"volume\": 4.78, \"cp\": 0.546, \"lcg\": -2.2}, {\"b/d\": 4.13, \"r\": 0.55, \"l/b\": 3.07, \"fn\": 0.175, \"volume\": 4.78, \"cp\": 0.546, \"lcg\": -2.2}, {\"b/d\": 4.13, \"r\": 0.86, \"l/b\": 3.07, \"fn\": 0.2, \"volume\": 4.78, \"cp\": 0.546, \"lcg\": -2.2}, {\"b/d\": 4.13, \"r\": 1.24, \"l/b\": 3.07, \"fn\": 0.225, \"volume\": 4.78, \"cp\": 0.546, \"lcg\": -2.2}, {\"b/d\": 4.13, \"r\": 1.76, \"l/b\": 3.07, \"fn\": 0.25, \"volume\": 4.78, \"cp\": 0.546, \"lcg\": -2.2}, {\"b/d\": 4.13, \"r\": 2.49, \"l/b\": 3.07, \"fn\": 0.275, \"volume\": 4.78, \"cp\": 0.546, \"lcg\": -2.2}, {\"b/d\": 4.13, \"r\": 3.45, \"l/b\": 3.07, \"fn\": 0.3, \"volume\": 4.78, \"cp\": 0.546, \"lcg\": -2.2}, {\"b/d\": 4.13, \"r\": 4.83, \"l/b\": 3.07, \"fn\": 0.325, \"volume\": 4.78, \"cp\": 0.546, \"lcg\": -2.2}, {\"b/d\": 4.13, \"r\": 7.37, \"l/b\": 3.07, \"fn\": 0.35, \"volume\": 4.78, \"cp\": 0.546, \"lcg\": -2.2}, {\"b/d\": 4.13, \"r\": 12.76, \"l/b\": 3.07, \"fn\": 0.375, \"volume\": 4.78, \"cp\": 0.546, \"lcg\": -2.2}, {\"b/d\": 4.13, \"r\": 21.99, \"l/b\": 3.07, \"fn\": 0.4, \"volume\": 4.78, \"cp\": 0.546, \"lcg\": -2.2}, {\"b/d\": 4.13, \"r\": 35.64, \"l/b\": 3.07, \"fn\": 0.425, \"volume\": 4.78, \"cp\": 0.546, \"lcg\": -2.2}, {\"b/d\": 4.13, \"r\": 53.07, \"l/b\": 3.07, \"fn\": 0.45, \"volume\": 4.78, \"cp\": 0.546, \"lcg\": -2.2}, {\"b/d\": 3.99, \"r\": 0.11, \"l/b\": 3.15, \"fn\": 0.125, \"volume\": 4.77, \"cp\": 0.565, \"lcg\": 0.0}, {\"b/d\": 3.99, \"r\": 0.24, \"l/b\": 3.15, \"fn\": 0.15, \"volume\": 4.77, \"cp\": 0.565, \"lcg\": 0.0}, {\"b/d\": 3.99, \"r\": 0.49, \"l/b\": 3.15, \"fn\": 0.175, \"volume\": 4.77, \"cp\": 0.565, \"lcg\": 0.0}, {\"b/d\": 3.99, \"r\": 0.79, \"l/b\": 3.15, \"fn\": 0.2, \"volume\": 4.77, \"cp\": 0.565, \"lcg\": 0.0}, {\"b/d\": 3.99, \"r\": 1.28, \"l/b\": 3.15, \"fn\": 0.225, \"volume\": 4.77, \"cp\": 0.565, \"lcg\": 0.0}, {\"b/d\": 3.99, \"r\": 1.96, \"l/b\": 3.15, \"fn\": 0.25, \"volume\": 4.77, \"cp\": 0.565, \"lcg\": 0.0}, {\"b/d\": 3.99, \"r\": 2.88, \"l/b\": 3.15, \"fn\": 0.275, \"volume\": 4.77, \"cp\": 0.565, \"lcg\": 0.0}, {\"b/d\": 3.99, \"r\": 4.14, \"l/b\": 3.15, \"fn\": 0.3, \"volume\": 4.77, \"cp\": 0.565, \"lcg\": 0.0}, {\"b/d\": 3.99, \"r\": 5.96, \"l/b\": 3.15, \"fn\": 0.325, \"volume\": 4.77, \"cp\": 0.565, \"lcg\": 0.0}, {\"b/d\": 3.99, \"r\": 9.07, \"l/b\": 3.15, \"fn\": 0.35, \"volume\": 4.77, \"cp\": 0.565, \"lcg\": 0.0}, {\"b/d\": 3.99, \"r\": 14.93, \"l/b\": 3.15, \"fn\": 0.375, \"volume\": 4.77, \"cp\": 0.565, \"lcg\": 0.0}, {\"b/d\": 3.99, \"r\": 24.13, \"l/b\": 3.15, \"fn\": 0.4, \"volume\": 4.77, \"cp\": 0.565, \"lcg\": 0.0}, {\"b/d\": 3.99, \"r\": 38.12, \"l/b\": 3.15, \"fn\": 0.425, \"volume\": 4.77, \"cp\": 0.565, \"lcg\": 0.0}, {\"b/d\": 3.99, \"r\": 55.44, \"l/b\": 3.15, \"fn\": 0.45, \"volume\": 4.77, \"cp\": 0.565, \"lcg\": 0.0}, {\"b/d\": 3.99, \"r\": 0.07, \"l/b\": 3.15, \"fn\": 0.125, \"volume\": 4.77, \"cp\": 0.565, \"lcg\": -5.0}, {\"b/d\": 3.99, \"r\": 0.18, \"l/b\": 3.15, \"fn\": 0.15, \"volume\": 4.77, \"cp\": 0.565, \"lcg\": -5.0}, {\"b/d\": 3.99, \"r\": 0.4, \"l/b\": 3.15, \"fn\": 0.175, \"volume\": 4.77, \"cp\": 0.565, \"lcg\": -5.0}, {\"b/d\": 3.99, \"r\": 0.7, \"l/b\": 3.15, \"fn\": 0.2, \"volume\": 4.77, \"cp\": 0.565, \"lcg\": -5.0}, {\"b/d\": 3.99, \"r\": 1.14, \"l/b\": 3.15, \"fn\": 0.225, \"volume\": 4.77, \"cp\": 0.565, \"lcg\": -5.0}, {\"b/d\": 3.99, \"r\": 1.83, \"l/b\": 3.15, \"fn\": 0.25, \"volume\": 4.77, \"cp\": 0.565, \"lcg\": -5.0}, {\"b/d\": 3.99, \"r\": 2.77, \"l/b\": 3.15, \"fn\": 0.275, \"volume\": 4.77, \"cp\": 0.565, \"lcg\": -5.0}, {\"b/d\": 3.99, \"r\": 4.12, \"l/b\": 3.15, \"fn\": 0.3, \"volume\": 4.77, \"cp\": 0.565, \"lcg\": -5.0}, {\"b/d\": 3.99, \"r\": 5.41, \"l/b\": 3.15, \"fn\": 0.325, \"volume\": 4.77, \"cp\": 0.565, \"lcg\": -5.0}, {\"b/d\": 3.99, \"r\": 7.87, \"l/b\": 3.15, \"fn\": 0.35, \"volume\": 4.77, \"cp\": 0.565, \"lcg\": -5.0}, {\"b/d\": 3.99, \"r\": 12.71, \"l/b\": 3.15, \"fn\": 0.375, \"volume\": 4.77, \"cp\": 0.565, \"lcg\": -5.0}, {\"b/d\": 3.99, \"r\": 21.02, \"l/b\": 3.15, \"fn\": 0.4, \"volume\": 4.77, \"cp\": 0.565, \"lcg\": -5.0}, {\"b/d\": 3.99, \"r\": 34.58, \"l/b\": 3.15, \"fn\": 0.425, \"volume\": 4.77, \"cp\": 0.565, \"lcg\": -5.0}, {\"b/d\": 3.99, \"r\": 51.77, \"l/b\": 3.15, \"fn\": 0.45, \"volume\": 4.77, \"cp\": 0.565, \"lcg\": -5.0}, {\"b/d\": 3.94, \"r\": 0.08, \"l/b\": 3.51, \"fn\": 0.125, \"volume\": 5.1, \"cp\": 0.565, \"lcg\": 0.0}, {\"b/d\": 3.94, \"r\": 0.26, \"l/b\": 3.51, \"fn\": 0.15, \"volume\": 5.1, \"cp\": 0.565, \"lcg\": 0.0}, {\"b/d\": 3.94, \"r\": 0.5, \"l/b\": 3.51, \"fn\": 0.175, \"volume\": 5.1, \"cp\": 0.565, \"lcg\": 0.0}, {\"b/d\": 3.94, \"r\": 0.83, \"l/b\": 3.51, \"fn\": 0.2, \"volume\": 5.1, \"cp\": 0.565, \"lcg\": 0.0}, {\"b/d\": 3.94, \"r\": 1.28, \"l/b\": 3.51, \"fn\": 0.225, \"volume\": 5.1, \"cp\": 0.565, \"lcg\": 0.0}, {\"b/d\": 3.94, \"r\": 1.9, \"l/b\": 3.51, \"fn\": 0.25, \"volume\": 5.1, \"cp\": 0.565, \"lcg\": 0.0}, {\"b/d\": 3.94, \"r\": 2.68, \"l/b\": 3.51, \"fn\": 0.275, \"volume\": 5.1, \"cp\": 0.565, \"lcg\": 0.0}, {\"b/d\": 3.94, \"r\": 3.76, \"l/b\": 3.51, \"fn\": 0.3, \"volume\": 5.1, \"cp\": 0.565, \"lcg\": 0.0}, {\"b/d\": 3.94, \"r\": 5.57, \"l/b\": 3.51, \"fn\": 0.325, \"volume\": 5.1, \"cp\": 0.565, \"lcg\": 0.0}, {\"b/d\": 3.94, \"r\": 8.76, \"l/b\": 3.51, \"fn\": 0.35, \"volume\": 5.1, \"cp\": 0.565, \"lcg\": 0.0}, {\"b/d\": 3.94, \"r\": 14.24, \"l/b\": 3.51, \"fn\": 0.375, \"volume\": 5.1, \"cp\": 0.565, \"lcg\": 0.0}, {\"b/d\": 3.94, \"r\": 23.05, \"l/b\": 3.51, \"fn\": 0.4, \"volume\": 5.1, \"cp\": 0.565, \"lcg\": 0.0}, {\"b/d\": 3.94, \"r\": 35.46, \"l/b\": 3.51, \"fn\": 0.425, \"volume\": 5.1, \"cp\": 0.565, \"lcg\": 0.0}, {\"b/d\": 3.94, \"r\": 51.99, \"l/b\": 3.51, \"fn\": 0.45, \"volume\": 5.1, \"cp\": 0.565, \"lcg\": 0.0}, {\"b/d\": 3.94, \"r\": 0.08, \"l/b\": 3.51, \"fn\": 0.125, \"volume\": 5.1, \"cp\": 0.565, \"lcg\": -5.0}, {\"b/d\": 3.94, \"r\": 0.24, \"l/b\": 3.51, \"fn\": 0.15, \"volume\": 5.1, \"cp\": 0.565, \"lcg\": -5.0}, {\"b/d\": 3.94, \"r\": 0.45, \"l/b\": 3.51, \"fn\": 0.175, \"volume\": 5.1, \"cp\": 0.565, \"lcg\": -5.0}, {\"b/d\": 3.94, \"r\": 0.77, \"l/b\": 3.51, \"fn\": 0.2, \"volume\": 5.1, \"cp\": 0.565, \"lcg\": -5.0}, {\"b/d\": 3.94, \"r\": 1.19, \"l/b\": 3.51, \"fn\": 0.225, \"volume\": 5.1, \"cp\": 0.565, \"lcg\": -5.0}, {\"b/d\": 3.94, \"r\": 1.76, \"l/b\": 3.51, \"fn\": 0.25, \"volume\": 5.1, \"cp\": 0.565, \"lcg\": -5.0}, {\"b/d\": 3.94, \"r\": 2.59, \"l/b\": 3.51, \"fn\": 0.275, \"volume\": 5.1, \"cp\": 0.565, \"lcg\": -5.0}, {\"b/d\": 3.94, \"r\": 3.85, \"l/b\": 3.51, \"fn\": 0.3, \"volume\": 5.1, \"cp\": 0.565, \"lcg\": -5.0}, {\"b/d\": 3.94, \"r\": 5.27, \"l/b\": 3.51, \"fn\": 0.325, \"volume\": 5.1, \"cp\": 0.565, \"lcg\": -5.0}, {\"b/d\": 3.94, \"r\": 7.74, \"l/b\": 3.51, \"fn\": 0.35, \"volume\": 5.1, \"cp\": 0.565, \"lcg\": -5.0}, {\"b/d\": 3.94, \"r\": 12.4, \"l/b\": 3.51, \"fn\": 0.375, \"volume\": 5.1, \"cp\": 0.565, \"lcg\": -5.0}, {\"b/d\": 3.94, \"r\": 20.91, \"l/b\": 3.51, \"fn\": 0.4, \"volume\": 5.1, \"cp\": 0.565, \"lcg\": -5.0}, {\"b/d\": 3.94, \"r\": 33.23, \"l/b\": 3.51, \"fn\": 0.425, \"volume\": 5.1, \"cp\": 0.565, \"lcg\": -5.0}, {\"b/d\": 3.94, \"r\": 49.14, \"l/b\": 3.51, \"fn\": 0.45, \"volume\": 5.1, \"cp\": 0.565, \"lcg\": -5.0}, {\"b/d\": 3.69, \"r\": 0.08, \"l/b\": 3.51, \"fn\": 0.125, \"volume\": 5.11, \"cp\": 0.53, \"lcg\": -2.3}, {\"b/d\": 3.69, \"r\": 0.25, \"l/b\": 3.51, \"fn\": 0.15, \"volume\": 5.11, \"cp\": 0.53, \"lcg\": -2.3}, {\"b/d\": 3.69, \"r\": 0.46, \"l/b\": 3.51, \"fn\": 0.175, \"volume\": 5.11, \"cp\": 0.53, \"lcg\": -2.3}, {\"b/d\": 3.69, \"r\": 0.75, \"l/b\": 3.51, \"fn\": 0.2, \"volume\": 5.11, \"cp\": 0.53, \"lcg\": -2.3}, {\"b/d\": 3.69, \"r\": 1.11, \"l/b\": 3.51, \"fn\": 0.225, \"volume\": 5.11, \"cp\": 0.53, \"lcg\": -2.3}, {\"b/d\": 3.69, \"r\": 1.57, \"l/b\": 3.51, \"fn\": 0.25, \"volume\": 5.11, \"cp\": 0.53, \"lcg\": -2.3}, {\"b/d\": 3.69, \"r\": 2.17, \"l/b\": 3.51, \"fn\": 0.275, \"volume\": 5.11, \"cp\": 0.53, \"lcg\": -2.3}, {\"b/d\": 3.69, \"r\": 2.98, \"l/b\": 3.51, \"fn\": 0.3, \"volume\": 5.11, \"cp\": 0.53, \"lcg\": -2.3}, {\"b/d\": 3.69, \"r\": 4.42, \"l/b\": 3.51, \"fn\": 0.325, \"volume\": 5.11, \"cp\": 0.53, \"lcg\": -2.3}, {\"b/d\": 3.69, \"r\": 7.84, \"l/b\": 3.51, \"fn\": 0.35, \"volume\": 5.11, \"cp\": 0.53, \"lcg\": -2.3}, {\"b/d\": 3.69, \"r\": 14.11, \"l/b\": 3.51, \"fn\": 0.375, \"volume\": 5.11, \"cp\": 0.53, \"lcg\": -2.3}, {\"b/d\": 3.69, \"r\": 24.14, \"l/b\": 3.51, \"fn\": 0.4, \"volume\": 5.11, \"cp\": 0.53, \"lcg\": -2.3}, {\"b/d\": 3.69, \"r\": 37.95, \"l/b\": 3.51, \"fn\": 0.425, \"volume\": 5.11, \"cp\": 0.53, \"lcg\": -2.3}, {\"b/d\": 3.69, \"r\": 55.17, \"l/b\": 3.51, \"fn\": 0.45, \"volume\": 5.11, \"cp\": 0.53, \"lcg\": -2.3}, {\"b/d\": 3.68, \"r\": 0.1, \"l/b\": 3.16, \"fn\": 0.125, \"volume\": 4.76, \"cp\": 0.53, \"lcg\": -2.3}, {\"b/d\": 3.68, \"r\": 0.23, \"l/b\": 3.16, \"fn\": 0.15, \"volume\": 4.76, \"cp\": 0.53, \"lcg\": -2.3}, {\"b/d\": 3.68, \"r\": 0.47, \"l/b\": 3.16, \"fn\": 0.175, \"volume\": 4.76, \"cp\": 0.53, \"lcg\": -2.3}, {\"b/d\": 3.68, \"r\": 0.76, \"l/b\": 3.16, \"fn\": 0.2, \"volume\": 4.76, \"cp\": 0.53, \"lcg\": -2.3}, {\"b/d\": 3.68, \"r\": 1.15, \"l/b\": 3.16, \"fn\": 0.225, \"volume\": 4.76, \"cp\": 0.53, \"lcg\": -2.3}, {\"b/d\": 3.68, \"r\": 1.65, \"l/b\": 3.16, \"fn\": 0.25, \"volume\": 4.76, \"cp\": 0.53, \"lcg\": -2.3}, {\"b/d\": 3.68, \"r\": 2.28, \"l/b\": 3.16, \"fn\": 0.275, \"volume\": 4.76, \"cp\": 0.53, \"lcg\": -2.3}, {\"b/d\": 3.68, \"r\": 3.09, \"l/b\": 3.16, \"fn\": 0.3, \"volume\": 4.76, \"cp\": 0.53, \"lcg\": -2.3}, {\"b/d\": 3.68, \"r\": 4.41, \"l/b\": 3.16, \"fn\": 0.325, \"volume\": 4.76, \"cp\": 0.53, \"lcg\": -2.3}, {\"b/d\": 3.68, \"r\": 7.51, \"l/b\": 3.16, \"fn\": 0.35, \"volume\": 4.76, \"cp\": 0.53, \"lcg\": -2.3}, {\"b/d\": 3.68, \"r\": 13.77, \"l/b\": 3.16, \"fn\": 0.375, \"volume\": 4.76, \"cp\": 0.53, \"lcg\": -2.3}, {\"b/d\": 3.68, \"r\": 23.96, \"l/b\": 3.16, \"fn\": 0.4, \"volume\": 4.76, \"cp\": 0.53, \"lcg\": -2.3}, {\"b/d\": 3.68, \"r\": 37.38, \"l/b\": 3.16, \"fn\": 0.425, \"volume\": 4.76, \"cp\": 0.53, \"lcg\": -2.3}, {\"b/d\": 3.68, \"r\": 56.46, \"l/b\": 3.16, \"fn\": 0.45, \"volume\": 4.76, \"cp\": 0.53, \"lcg\": -2.3}, {\"b/d\": 2.81, \"r\": 0.05, \"l/b\": 3.15, \"fn\": 0.125, \"volume\": 4.34, \"cp\": 0.53, \"lcg\": -2.3}, {\"b/d\": 2.81, \"r\": 0.17, \"l/b\": 3.15, \"fn\": 0.15, \"volume\": 4.34, \"cp\": 0.53, \"lcg\": -2.3}, {\"b/d\": 2.81, \"r\": 0.35, \"l/b\": 3.15, \"fn\": 0.175, \"volume\": 4.34, \"cp\": 0.53, \"lcg\": -2.3}, {\"b/d\": 2.81, \"r\": 0.63, \"l/b\": 3.15, \"fn\": 0.2, \"volume\": 4.34, \"cp\": 0.53, \"lcg\": -2.3}, {\"b/d\": 2.81, \"r\": 1.01, \"l/b\": 3.15, \"fn\": 0.225, \"volume\": 4.34, \"cp\": 0.53, \"lcg\": -2.3}, {\"b/d\": 2.81, \"r\": 1.43, \"l/b\": 3.15, \"fn\": 0.25, \"volume\": 4.34, \"cp\": 0.53, \"lcg\": -2.3}, {\"b/d\": 2.81, \"r\": 2.05, \"l/b\": 3.15, \"fn\": 0.275, \"volume\": 4.34, \"cp\": 0.53, \"lcg\": -2.3}, {\"b/d\": 2.81, \"r\": 2.73, \"l/b\": 3.15, \"fn\": 0.3, \"volume\": 4.34, \"cp\": 0.53, \"lcg\": -2.3}, {\"b/d\": 2.81, \"r\": 3.87, \"l/b\": 3.15, \"fn\": 0.325, \"volume\": 4.34, \"cp\": 0.53, \"lcg\": -2.3}, {\"b/d\": 2.81, \"r\": 7.19, \"l/b\": 3.15, \"fn\": 0.35, \"volume\": 4.34, \"cp\": 0.53, \"lcg\": -2.3}, {\"b/d\": 2.81, \"r\": 13.96, \"l/b\": 3.15, \"fn\": 0.375, \"volume\": 4.34, \"cp\": 0.53, \"lcg\": -2.3}, {\"b/d\": 2.81, \"r\": 25.18, \"l/b\": 3.15, \"fn\": 0.4, \"volume\": 4.34, \"cp\": 0.53, \"lcg\": -2.3}, {\"b/d\": 2.81, \"r\": 41.34, \"l/b\": 3.15, \"fn\": 0.425, \"volume\": 4.34, \"cp\": 0.53, \"lcg\": -2.3}, {\"b/d\": 2.81, \"r\": 62.42, \"l/b\": 3.15, \"fn\": 0.45, \"volume\": 4.34, \"cp\": 0.53, \"lcg\": -2.3}, {\"b/d\": 4.24, \"r\": 0.03, \"l/b\": 3.15, \"fn\": 0.125, \"volume\": 4.78, \"cp\": 0.6, \"lcg\": 0.0}, {\"b/d\": 4.24, \"r\": 0.18, \"l/b\": 3.15, \"fn\": 0.15, \"volume\": 4.78, \"cp\": 0.6, \"lcg\": 0.0}, {\"b/d\": 4.24, \"r\": 0.4, \"l/b\": 3.15, \"fn\": 0.175, \"volume\": 4.78, \"cp\": 0.6, \"lcg\": 0.0}, {\"b/d\": 4.24, \"r\": 0.73, \"l/b\": 3.15, \"fn\": 0.2, \"volume\": 4.78, \"cp\": 0.6, \"lcg\": 0.0}, {\"b/d\": 4.24, \"r\": 1.3, \"l/b\": 3.15, \"fn\": 0.225, \"volume\": 4.78, \"cp\": 0.6, \"lcg\": 0.0}, {\"b/d\": 4.24, \"r\": 2.16, \"l/b\": 3.15, \"fn\": 0.25, \"volume\": 4.78, \"cp\": 0.6, \"lcg\": 0.0}, {\"b/d\": 4.24, \"r\": 3.35, \"l/b\": 3.15, \"fn\": 0.275, \"volume\": 4.78, \"cp\": 0.6, \"lcg\": 0.0}, {\"b/d\": 4.24, \"r\": 5.06, \"l/b\": 3.15, \"fn\": 0.3, \"volume\": 4.78, \"cp\": 0.6, \"lcg\": 0.0}, {\"b/d\": 4.24, \"r\": 7.14, \"l/b\": 3.15, \"fn\": 0.325, \"volume\": 4.78, \"cp\": 0.6, \"lcg\": 0.0}, {\"b/d\": 4.24, \"r\": 10.36, \"l/b\": 3.15, \"fn\": 0.35, \"volume\": 4.78, \"cp\": 0.6, \"lcg\": 0.0}, {\"b/d\": 4.24, \"r\": 15.25, \"l/b\": 3.15, \"fn\": 0.375, \"volume\": 4.78, \"cp\": 0.6, \"lcg\": 0.0}, {\"b/d\": 4.24, \"r\": 23.15, \"l/b\": 3.15, \"fn\": 0.4, \"volume\": 4.78, \"cp\": 0.6, \"lcg\": 0.0}, {\"b/d\": 4.24, \"r\": 34.62, \"l/b\": 3.15, \"fn\": 0.425, \"volume\": 4.78, \"cp\": 0.6, \"lcg\": 0.0}, {\"b/d\": 4.24, \"r\": 51.5, \"l/b\": 3.15, \"fn\": 0.45, \"volume\": 4.78, \"cp\": 0.6, \"lcg\": 0.0}, {\"b/d\": 4.24, \"r\": 0.06, \"l/b\": 3.15, \"fn\": 0.125, \"volume\": 4.78, \"cp\": 0.6, \"lcg\": -5.0}, {\"b/d\": 4.24, \"r\": 0.15, \"l/b\": 3.15, \"fn\": 0.15, \"volume\": 4.78, \"cp\": 0.6, \"lcg\": -5.0}, {\"b/d\": 4.24, \"r\": 0.34, \"l/b\": 3.15, \"fn\": 0.175, \"volume\": 4.78, \"cp\": 0.6, \"lcg\": -5.0}, {\"b/d\": 4.24, \"r\": 0.63, \"l/b\": 3.15, \"fn\": 0.2, \"volume\": 4.78, \"cp\": 0.6, \"lcg\": -5.0}, {\"b/d\": 4.24, \"r\": 1.13, \"l/b\": 3.15, \"fn\": 0.225, \"volume\": 4.78, \"cp\": 0.6, \"lcg\": -5.0}, {\"b/d\": 4.24, \"r\": 1.85, \"l/b\": 3.15, \"fn\": 0.25, \"volume\": 4.78, \"cp\": 0.6, \"lcg\": -5.0}, {\"b/d\": 4.24, \"r\": 2.84, \"l/b\": 3.15, \"fn\": 0.275, \"volume\": 4.78, \"cp\": 0.6, \"lcg\": -5.0}, {\"b/d\": 4.24, \"r\": 4.34, \"l/b\": 3.15, \"fn\": 0.3, \"volume\": 4.78, \"cp\": 0.6, \"lcg\": -5.0}, {\"b/d\": 4.24, \"r\": 6.2, \"l/b\": 3.15, \"fn\": 0.325, \"volume\": 4.78, \"cp\": 0.6, \"lcg\": -5.0}, {\"b/d\": 4.24, \"r\": 8.62, \"l/b\": 3.15, \"fn\": 0.35, \"volume\": 4.78, \"cp\": 0.6, \"lcg\": -5.0}, {\"b/d\": 4.24, \"r\": 12.49, \"l/b\": 3.15, \"fn\": 0.375, \"volume\": 4.78, \"cp\": 0.6, \"lcg\": -5.0}, {\"b/d\": 4.24, \"r\": 20.41, \"l/b\": 3.15, \"fn\": 0.4, \"volume\": 4.78, \"cp\": 0.6, \"lcg\": -5.0}, {\"b/d\": 4.24, \"r\": 32.46, \"l/b\": 3.15, \"fn\": 0.425, \"volume\": 4.78, \"cp\": 0.6, \"lcg\": -5.0}, {\"b/d\": 4.24, \"r\": 50.94, \"l/b\": 3.15, \"fn\": 0.45, \"volume\": 4.78, \"cp\": 0.6, \"lcg\": -5.0}, {\"b/d\": 3.75, \"r\": 0.16, \"l/b\": 3.15, \"fn\": 0.125, \"volume\": 4.78, \"cp\": 0.53, \"lcg\": 0.0}, {\"b/d\": 3.75, \"r\": 0.32, \"l/b\": 3.15, \"fn\": 0.15, \"volume\": 4.78, \"cp\": 0.53, \"lcg\": 0.0}, {\"b/d\": 3.75, \"r\": 0.59, \"l/b\": 3.15, \"fn\": 0.175, \"volume\": 4.78, \"cp\": 0.53, \"lcg\": 0.0}, {\"b/d\": 3.75, \"r\": 0.92, \"l/b\": 3.15, \"fn\": 0.2, \"volume\": 4.78, \"cp\": 0.53, \"lcg\": 0.0}, {\"b/d\": 3.75, \"r\": 1.37, \"l/b\": 3.15, \"fn\": 0.225, \"volume\": 4.78, \"cp\": 0.53, \"lcg\": 0.0}, {\"b/d\": 3.75, \"r\": 1.94, \"l/b\": 3.15, \"fn\": 0.25, \"volume\": 4.78, \"cp\": 0.53, \"lcg\": 0.0}, {\"b/d\": 3.75, \"r\": 2.62, \"l/b\": 3.15, \"fn\": 0.275, \"volume\": 4.78, \"cp\": 0.53, \"lcg\": 0.0}, {\"b/d\": 3.75, \"r\": 3.7, \"l/b\": 3.15, \"fn\": 0.3, \"volume\": 4.78, \"cp\": 0.53, \"lcg\": 0.0}, {\"b/d\": 3.75, \"r\": 5.45, \"l/b\": 3.15, \"fn\": 0.325, \"volume\": 4.78, \"cp\": 0.53, \"lcg\": 0.0}, {\"b/d\": 3.75, \"r\": 9.45, \"l/b\": 3.15, \"fn\": 0.35, \"volume\": 4.78, \"cp\": 0.53, \"lcg\": 0.0}, {\"b/d\": 3.75, \"r\": 16.31, \"l/b\": 3.15, \"fn\": 0.375, \"volume\": 4.78, \"cp\": 0.53, \"lcg\": 0.0}, {\"b/d\": 3.75, \"r\": 27.34, \"l/b\": 3.15, \"fn\": 0.4, \"volume\": 4.78, \"cp\": 0.53, \"lcg\": 0.0}, {\"b/d\": 3.75, \"r\": 41.77, \"l/b\": 3.15, \"fn\": 0.425, \"volume\": 4.78, \"cp\": 0.53, \"lcg\": 0.0}, {\"b/d\": 3.75, \"r\": 60.85, \"l/b\": 3.15, \"fn\": 0.45, \"volume\": 4.78, \"cp\": 0.53, \"lcg\": 0.0}, {\"b/d\": 3.75, \"r\": 0.09, \"l/b\": 3.15, \"fn\": 0.125, \"volume\": 4.78, \"cp\": 0.53, \"lcg\": -5.0}, {\"b/d\": 3.75, \"r\": 0.24, \"l/b\": 3.15, \"fn\": 0.15, \"volume\": 4.78, \"cp\": 0.53, \"lcg\": -5.0}, {\"b/d\": 3.75, \"r\": 0.47, \"l/b\": 3.15, \"fn\": 0.175, \"volume\": 4.78, \"cp\": 0.53, \"lcg\": -5.0}, {\"b/d\": 3.75, \"r\": 0.78, \"l/b\": 3.15, \"fn\": 0.2, \"volume\": 4.78, \"cp\": 0.53, \"lcg\": -5.0}, {\"b/d\": 3.75, \"r\": 1.21, \"l/b\": 3.15, \"fn\": 0.225, \"volume\": 4.78, \"cp\": 0.53, \"lcg\": -5.0}, {\"b/d\": 3.75, \"r\": 1.85, \"l/b\": 3.15, \"fn\": 0.25, \"volume\": 4.78, \"cp\": 0.53, \"lcg\": -5.0}, {\"b/d\": 3.75, \"r\": 2.62, \"l/b\": 3.15, \"fn\": 0.275, \"volume\": 4.78, \"cp\": 0.53, \"lcg\": -5.0}, {\"b/d\": 3.75, \"r\": 3.69, \"l/b\": 3.15, \"fn\": 0.3, \"volume\": 4.78, \"cp\": 0.53, \"lcg\": -5.0}, {\"b/d\": 3.75, \"r\": 5.07, \"l/b\": 3.15, \"fn\": 0.325, \"volume\": 4.78, \"cp\": 0.53, \"lcg\": -5.0}, {\"b/d\": 3.75, \"r\": 7.95, \"l/b\": 3.15, \"fn\": 0.35, \"volume\": 4.78, \"cp\": 0.53, \"lcg\": -5.0}, {\"b/d\": 3.75, \"r\": 13.73, \"l/b\": 3.15, \"fn\": 0.375, \"volume\": 4.78, \"cp\": 0.53, \"lcg\": -5.0}, {\"b/d\": 3.75, \"r\": 23.55, \"l/b\": 3.15, \"fn\": 0.4, \"volume\": 4.78, \"cp\": 0.53, \"lcg\": -5.0}, {\"b/d\": 3.75, \"r\": 37.14, \"l/b\": 3.15, \"fn\": 0.425, \"volume\": 4.78, \"cp\": 0.53, \"lcg\": -5.0}, {\"b/d\": 3.75, \"r\": 55.87, \"l/b\": 3.15, \"fn\": 0.45, \"volume\": 4.78, \"cp\": 0.53, \"lcg\": -5.0}, {\"b/d\": 4.17, \"r\": 0.01, \"l/b\": 3.51, \"fn\": 0.125, \"volume\": 5.1, \"cp\": 0.6, \"lcg\": -2.3}, {\"b/d\": 4.17, \"r\": 0.16, \"l/b\": 3.51, \"fn\": 0.15, \"volume\": 5.1, \"cp\": 0.6, \"lcg\": -2.3}, {\"b/d\": 4.17, \"r\": 0.39, \"l/b\": 3.51, \"fn\": 0.175, \"volume\": 5.1, \"cp\": 0.6, \"lcg\": -2.3}, {\"b/d\": 4.17, \"r\": 0.73, \"l/b\": 3.51, \"fn\": 0.2, \"volume\": 5.1, \"cp\": 0.6, \"lcg\": -2.3}, {\"b/d\": 4.17, \"r\": 1.24, \"l/b\": 3.51, \"fn\": 0.225, \"volume\": 5.1, \"cp\": 0.6, \"lcg\": -2.3}, {\"b/d\": 4.17, \"r\": 1.96, \"l/b\": 3.51, \"fn\": 0.25, \"volume\": 5.1, \"cp\": 0.6, \"lcg\": -2.3}, {\"b/d\": 4.17, \"r\": 3.04, \"l/b\": 3.51, \"fn\": 0.275, \"volume\": 5.1, \"cp\": 0.6, \"lcg\": -2.3}, {\"b/d\": 4.17, \"r\": 4.46, \"l/b\": 3.51, \"fn\": 0.3, \"volume\": 5.1, \"cp\": 0.6, \"lcg\": -2.3}, {\"b/d\": 4.17, \"r\": 6.31, \"l/b\": 3.51, \"fn\": 0.325, \"volume\": 5.1, \"cp\": 0.6, \"lcg\": -2.3}, {\"b/d\": 4.17, \"r\": 8.68, \"l/b\": 3.51, \"fn\": 0.35, \"volume\": 5.1, \"cp\": 0.6, \"lcg\": -2.3}, {\"b/d\": 4.17, \"r\": 12.39, \"l/b\": 3.51, \"fn\": 0.375, \"volume\": 5.1, \"cp\": 0.6, \"lcg\": -2.3}, {\"b/d\": 4.17, \"r\": 20.14, \"l/b\": 3.51, \"fn\": 0.4, \"volume\": 5.1, \"cp\": 0.6, \"lcg\": -2.3}, {\"b/d\": 4.17, \"r\": 31.77, \"l/b\": 3.51, \"fn\": 0.425, \"volume\": 5.1, \"cp\": 0.6, \"lcg\": -2.3}, {\"b/d\": 4.17, \"r\": 47.13, \"l/b\": 3.51, \"fn\": 0.45, \"volume\": 5.1, \"cp\": 0.6, \"lcg\": -2.3}, {\"b/d\": 4.23, \"r\": 0.04, \"l/b\": 2.73, \"fn\": 0.125, \"volume\": 4.34, \"cp\": 0.6, \"lcg\": -2.3}, {\"b/d\": 4.23, \"r\": 0.17, \"l/b\": 2.73, \"fn\": 0.15, \"volume\": 4.34, \"cp\": 0.6, \"lcg\": -2.3}, {\"b/d\": 4.23, \"r\": 0.36, \"l/b\": 2.73, \"fn\": 0.175, \"volume\": 4.34, \"cp\": 0.6, \"lcg\": -2.3}, {\"b/d\": 4.23, \"r\": 0.64, \"l/b\": 2.73, \"fn\": 0.2, \"volume\": 4.34, \"cp\": 0.6, \"lcg\": -2.3}, {\"b/d\": 4.23, \"r\": 1.02, \"l/b\": 2.73, \"fn\": 0.225, \"volume\": 4.34, \"cp\": 0.6, \"lcg\": -2.3}, {\"b/d\": 4.23, \"r\": 1.62, \"l/b\": 2.73, \"fn\": 0.25, \"volume\": 4.34, \"cp\": 0.6, \"lcg\": -2.3}, {\"b/d\": 4.23, \"r\": 2.63, \"l/b\": 2.73, \"fn\": 0.275, \"volume\": 4.34, \"cp\": 0.6, \"lcg\": -2.3}, {\"b/d\": 4.23, \"r\": 4.15, \"l/b\": 2.73, \"fn\": 0.3, \"volume\": 4.34, \"cp\": 0.6, \"lcg\": -2.3}, {\"b/d\": 4.23, \"r\": 6.0, \"l/b\": 2.73, \"fn\": 0.325, \"volume\": 4.34, \"cp\": 0.6, \"lcg\": -2.3}, {\"b/d\": 4.23, \"r\": 8.47, \"l/b\": 2.73, \"fn\": 0.35, \"volume\": 4.34, \"cp\": 0.6, \"lcg\": -2.3}, {\"b/d\": 4.23, \"r\": 12.27, \"l/b\": 2.73, \"fn\": 0.375, \"volume\": 4.34, \"cp\": 0.6, \"lcg\": -2.3}, {\"b/d\": 4.23, \"r\": 19.59, \"l/b\": 2.73, \"fn\": 0.4, \"volume\": 4.34, \"cp\": 0.6, \"lcg\": -2.3}, {\"b/d\": 4.23, \"r\": 30.48, \"l/b\": 2.73, \"fn\": 0.425, \"volume\": 4.34, \"cp\": 0.6, \"lcg\": -2.3}, {\"b/d\": 4.23, \"r\": 46.66, \"l/b\": 2.73, \"fn\": 0.45, \"volume\": 4.34, \"cp\": 0.6, \"lcg\": -2.3}]}}, {\"mode\": \"vega-lite\"});\n",
       "</script>"
      ],
      "text/plain": [
       "alt.RepeatChart(...)"
      ]
     },
     "execution_count": 6,
     "metadata": {},
     "output_type": "execute_result"
    }
   ],
   "source": [
    "#collapse\n",
    "alt.Chart(data).mark_circle().encode(\n",
    "    alt.X(alt.repeat(\"column\"), type='quantitative', scale=alt.Scale(zero=False)),\n",
    "    alt.Y(alt.repeat(\"row\"), type='quantitative'),\n",
    "\n",
    ").properties(\n",
    "    width=100,\n",
    "    height=150\n",
    ").repeat(\n",
    "    row=[label],\n",
    "    column=features,\n",
    ").interactive()"
   ]
  },
  {
   "cell_type": "markdown",
   "metadata": {},
   "source": [
    "### Step 3: Data Transformation: \n",
    "Transform preprocessed data ready for machine learning by engineering features using scaling, attribute decomposition and attribute aggregation.\n",
    "#### Scaling\n",
    "The features are already made nondimensional, however it seems that the size of them differ a bit (ex: b/d in [3,5] and cp in [0.5, 0.6] so it might be worth to conduct some kind of more scaling to make them more equal. \n",
    "\n",
    "#### Decomposition\n",
    "This is something that I want to look more into, but not now.\n",
    "#### Aggregation\n",
    "No obvious aggregrations here\n"
   ]
  },
  {
   "cell_type": "markdown",
   "metadata": {},
   "source": [
    "# 3. Spot Check Algorithms"
   ]
  },
  {
   "cell_type": "code",
   "execution_count": 7,
   "metadata": {},
   "outputs": [],
   "source": [
    "#collapse\n",
    "from sklearn.preprocessing import PolynomialFeatures\n",
    "from sklearn.linear_model import LinearRegression\n",
    "from sklearn.pipeline import Pipeline\n",
    "from sklearn.model_selection import cross_val_score\n",
    "from sklearn.model_selection import RepeatedKFold\n",
    "cv = RepeatedKFold(n_splits=5, n_repeats=10, random_state=1)"
   ]
  },
  {
   "cell_type": "markdown",
   "metadata": {},
   "source": [
    "First just looking at first order linear regression:"
   ]
  },
  {
   "cell_type": "code",
   "execution_count": 8,
   "metadata": {},
   "outputs": [
    {
     "data": {
      "image/png": "[encoded data removed]",
      "text/plain": [
       "<Figure size 432x288 with 1 Axes>"
      ]
     },
     "metadata": {
      "needs_background": "light"
     },
     "output_type": "display_data"
    }
   ],
   "source": [
    "#collapse\n",
    "\n",
    "linear_regression = LinearRegression()\n",
    "steps = [\n",
    "    ('linear_regression', linear_regression),\n",
    "]\n",
    "\n",
    "pipeline_linear = Pipeline(steps=steps)\n",
    "\n",
    "scores = cross_val_score(estimator=pipeline_linear, X=X, y=y, scoring='r2', cv=cv, n_jobs=-1)\n",
    "\n",
    "fig,ax = plt.subplots()\n",
    "ax.hist(scores);\n",
    "ax.set_xlabel('score')\n",
    "ax.set_ylabel('occurances')\n",
    "ax.set_title('Histogram over cross validations');"
   ]
  },
  {
   "cell_type": "markdown",
   "metadata": {},
   "source": [
    "Add a scaler:"
   ]
  },
  {
   "cell_type": "code",
   "execution_count": 9,
   "metadata": {},
   "outputs": [],
   "source": [
    "#collapse\n",
    "from sklearn.preprocessing import StandardScaler\n",
    "\n",
    "standard_scaler = StandardScaler()\n",
    "\n",
    "steps = [\n",
    "    ('scaler', standard_scaler),\n",
    "    ('linear_regression', linear_regression),\n",
    "]\n",
    "\n",
    "pipeline_linear_scaled = Pipeline(steps=steps)"
   ]
  },
  {
   "cell_type": "markdown",
   "metadata": {},
   "source": [
    "Add polynomial features:"
   ]
  },
  {
   "cell_type": "code",
   "execution_count": 10,
   "metadata": {},
   "outputs": [],
   "source": [
    "#collapse\n",
    "from sklearn.preprocessing import PolynomialFeatures\n",
    "\n",
    "polynomial_features = PolynomialFeatures(degree=2)\n",
    "\n",
    "steps = [\n",
    "    ('scaler', standard_scaler),\n",
    "    ('polynomial_features', polynomial_features),\n",
    "    ('linear_regression', linear_regression),\n",
    "]\n",
    "\n",
    "pipeline_polynomial_scaled = Pipeline(steps=steps)"
   ]
  },
  {
   "cell_type": "markdown",
   "metadata": {},
   "source": [
    "Add feature selection:"
   ]
  },
  {
   "cell_type": "code",
   "execution_count": 11,
   "metadata": {},
   "outputs": [],
   "source": [
    "#collapse\n",
    "\n",
    "from sklearn.feature_selection import SelectKBest\n",
    "from sklearn.feature_selection import f_regression\n",
    "\n",
    "select_k_best = SelectKBest(score_func=f_regression, k=4)\n",
    "\n",
    "steps = [\n",
    "    ('scaler', standard_scaler),\n",
    "    ('polynomial_features', polynomial_features),\n",
    "    ('select_k_best', select_k_best),\n",
    "    ('linear_regression', linear_regression),\n",
    "]\n",
    "\n",
    "pipeline_polynomial_scaled_selection = Pipeline(steps=steps)"
   ]
  },
  {
   "cell_type": "markdown",
   "metadata": {},
   "source": [
    "## Spot checking"
   ]
  },
  {
   "cell_type": "code",
   "execution_count": 12,
   "metadata": {},
   "outputs": [
    {
     "data": {
      "image/png": "[encoded data removed]",
      "text/plain": [
       "<Figure size 432x288 with 1 Axes>"
      ]
     },
     "metadata": {
      "needs_background": "light"
     },
     "output_type": "display_data"
    }
   ],
   "source": [
    "#collapse\n",
    "\n",
    "models = {\n",
    "    'linear':pipeline_linear,\n",
    "    'linear scaled':pipeline_linear_scaled,\n",
    "    'polynomial scaled':pipeline_polynomial_scaled,\n",
    "    'polynomial scaled with feature selection':pipeline_polynomial_scaled_selection\n",
    "         }\n",
    "\n",
    "scores = {}\n",
    "for model_name, model in models.items():\n",
    "    scores[model_name] = cross_val_score(estimator=model, X=X, y=y, scoring='r2', cv=cv, n_jobs=-1)\n",
    "    \n",
    "df_cross_validation = pd.DataFrame()\n",
    "\n",
    "for model_name, model in models.items():\n",
    "\n",
    "    scores_ = cross_val_score(estimator=model, X=X, y=y, scoring='r2', cv=cv, n_jobs=-1)\n",
    "    validations = np.arange(0,len(scores_))\n",
    "    df_=pd.DataFrame()\n",
    "    df_['validation']=validations\n",
    "    df_['score']=scores_\n",
    "    df_['model']=model_name\n",
    "    df_cross_validation=df_cross_validation.append(df_, ignore_index=True)\n",
    "\n",
    "df_scores = pd.DataFrame(scores)\n",
    "\n",
    "ax = sns.boxplot(x='model', y='score', data=df_cross_validation)\n",
    "ax.set_xticklabels(ax.get_xticklabels(),rotation=90);"
   ]
  },
  {
   "cell_type": "markdown",
   "metadata": {},
   "source": [
    "...so the spot checking tells us that it is worth to use:\n",
    "* A higher order polynomial\n",
    "* And to do feature selection"
   ]
  },
  {
   "cell_type": "markdown",
   "metadata": {},
   "source": [
    "# 4. Improve Results"
   ]
  },
  {
   "cell_type": "markdown",
   "metadata": {},
   "source": [
    "### Algorithm Tuning: \n",
    "where discovering the best models is treated like a search problem through model parameter space.\n",
    "\n",
    "The optimal parameters to the model: *polynomial scaled with feature selection* will be found by conducting a grid search."
   ]
  },
  {
   "cell_type": "code",
   "execution_count": 13,
   "metadata": {},
   "outputs": [
    {
     "data": {
      "image/png": "[encoded data removed]",
      "text/plain": [
       "<Figure size 432x288 with 1 Axes>"
      ]
     },
     "metadata": {
      "needs_background": "light"
     },
     "output_type": "display_data"
    }
   ],
   "source": [
    "#collapse\n",
    "\n",
    "df_scores = pd.DataFrame(scores)\n",
    "\n",
    "ax = sns.boxplot(x='model', y='score', data=df_cross_validation)\n",
    "ax.set_xticklabels(ax.get_xticklabels(),rotation=90);\n",
    "\n",
    "from sklearn.model_selection import GridSearchCV\n",
    "\n",
    "# define the grid\n",
    "grid = dict()\n",
    "grid['select_k_best__k'] = [i for i in range(X.shape[1]-20, X.shape[1]+1)]\n",
    "grid['polynomial_features__degree'] = [i for i in range(1, 10)]\n",
    "\n",
    "\n",
    "# define the grid search\n",
    "search = GridSearchCV(estimator=pipeline_polynomial_scaled_selection, param_grid=grid, scoring='neg_mean_absolute_error', n_jobs=-1, cv=cv)\n",
    "# perform the search\n",
    "search_result = search.fit(X, y)"
   ]
  },
  {
   "cell_type": "code",
   "execution_count": 14,
   "metadata": {
    "scrolled": true
   },
   "outputs": [
    {
     "data": {
      "text/plain": [
       "Pipeline(memory=None,\n",
       "         steps=[('scaler',\n",
       "                 StandardScaler(copy=True, with_mean=True, with_std=True)),\n",
       "                ('polynomial_features',\n",
       "                 PolynomialFeatures(degree=4, include_bias=True,\n",
       "                                    interaction_only=False, order='C')),\n",
       "                ('select_k_best',\n",
       "                 SelectKBest(k=6,\n",
       "                             score_func=<function f_regression at 0x157639C0>)),\n",
       "                ('linear_regression',\n",
       "                 LinearRegression(copy_X=True, fit_intercept=True, n_jobs=None,\n",
       "                                  normalize=False))],\n",
       "         verbose=False)"
      ]
     },
     "execution_count": 14,
     "metadata": {},
     "output_type": "execute_result"
    }
   ],
   "source": [
    "model = search_result.best_estimator_\n",
    "model"
   ]
  },
  {
   "cell_type": "code",
   "execution_count": 15,
   "metadata": {
    "scrolled": true
   },
   "outputs": [
    {
     "data": {
      "image/png": "[encoded data removed]",
      "text/plain": [
       "<Figure size 432x288 with 1 Axes>"
      ]
     },
     "metadata": {
      "needs_background": "light"
     },
     "output_type": "display_data"
    }
   ],
   "source": [
    "#hide\n",
    "\n",
    "scores_ = cross_val_score(estimator=model, X=X, y=y, scoring='r2', cv=cv, n_jobs=-1)\n",
    "fig,ax=plt.subplots()\n",
    "ax.hist(scores_, bins=20);\n",
    "ax.set_xlabel('scores');\n",
    "ax.set_title('Histogram of cross validation scores');"
   ]
  },
  {
   "cell_type": "markdown",
   "metadata": {},
   "source": [
    "The model is the same thing as the following polynomial:"
   ]
  },
  {
   "cell_type": "code",
   "execution_count": 63,
   "metadata": {},
   "outputs": [
    {
     "name": "stdout",
     "output_type": "stream",
     "text": [
      "2.936902 + 3.458262*fn + 4.446093*fn^2 + 4.785126*fn^3 + 0.315299*fn*cp^2  -0.066452*fn*volume^2 + 1.740994*fn^4\n"
     ]
    }
   ],
   "source": [
    "#collapse\n",
    "def find_polynomial_feature(model):\n",
    "    found = False\n",
    "    for part in model:\n",
    "        if isinstance(part, PolynomialFeatures):\n",
    "            polynomial_features = part\n",
    "            found = True\n",
    "            break\n",
    "    if not found:\n",
    "        raise ValueError('model pipeline must contain an instance of PolynomialFeatures')\n",
    "    \n",
    "    return polynomial_features\n",
    "\n",
    "def find_select_k_best(model):\n",
    "    found = False\n",
    "    for part in model:\n",
    "        if isinstance(part, SelectKBest):\n",
    "            select_k_best = part\n",
    "            found = True\n",
    "            break\n",
    "    if not found:\n",
    "        raise ValueError('model pipeline must contain an instance of SelectKBest')\n",
    "        \n",
    "    return select_k_best\n",
    "\n",
    "def model_to_string(model:sklearn.pipeline.Pipeline, feature_names:list, divide=' '):\n",
    "    \n",
    "    # Find polynomial features:\n",
    "    polynomial_features = find_polynomial_feature(model=model)\n",
    "    \n",
    "    # Find select_k_best:\n",
    "    select_k_best = find_select_k_best(model=model)\n",
    "    \n",
    "    polynomial_feature_names = np.array(polynomial_features.get_feature_names())\n",
    "    best_polynomial_feature_names = polynomial_feature_names[select_k_best.get_support()]\n",
    "    \n",
    "    predictor = model[-1]  # Last item in the pipeline is assumed to be the precictor\n",
    "    coefficients = predictor.coef_\n",
    "    interception = predictor.intercept_\n",
    "    \n",
    "    x_names = ['x%i'%i for i in range(len(feature_names))]\n",
    "    \n",
    "    expression = ''\n",
    "    expression+='%f' % interception\n",
    "    for part,coefficient in zip(best_polynomial_feature_names,coefficients):\n",
    "        \n",
    "        nice_part = part.replace(' ','*')\n",
    "        super_nice_part = nice_part\n",
    "        for feature_name,x in zip(feature_names,x_names):\n",
    "            super_nice_part=super_nice_part.replace(x,feature_name)\n",
    "        \n",
    "        if coefficient==0:\n",
    "            continue\n",
    "        elif coefficient<0:\n",
    "            sign=''\n",
    "        else:\n",
    "            sign='+'\n",
    "        \n",
    "        sub_part = '%s%s%s%f*%s' % (divide,sign,divide,coefficient,super_nice_part)\n",
    "    \n",
    "        \n",
    "        expression+=sub_part\n",
    "    \n",
    "    return expression\n",
    "\n",
    "print(model_to_string(model=model, feature_names=features))"
   ]
  },
  {
   "cell_type": "markdown",
   "metadata": {},
   "source": [
    "And a bit nicer with model->sympy->latex:"
   ]
  },
  {
   "cell_type": "code",
   "execution_count": 66,
   "metadata": {},
   "outputs": [
    {
     "data": {
      "text/latex": [
       "$\\displaystyle R = 0.315299 C_{p}^{2} F_{n} + 1.740994 F_{n}^{4} + 4.785126 F_{n}^{3} + 4.446093 F_{n}^{2} - 0.066452 F_{n} V^{2} + 3.458262 F_{n} + 2.936902$"
      ],
      "text/plain": [
       "Eq(R, 0.315299*C_p**2*F_n + 1.740994*F_n**4 + 4.785126*F_n**3 + 4.446093*F_n**2 - 0.066452*F_n*V**2 + 3.458262*F_n + 2.936902)"
      ]
     },
     "execution_count": 66,
     "metadata": {},
     "output_type": "execute_result"
    }
   ],
   "source": [
    "#collapse\n",
    "from sympy.parsing.sympy_parser import parse_expr\n",
    "def model_to_sympy(model:sklearn.pipeline.Pipeline, feature_names:list, label='y'):\n",
    "    \n",
    "    model_string = model_to_string(model=model, feature_names=feature_names)\n",
    "    model_string = model_string.replace('^','**')\n",
    "    lhs = sp.Symbol(label)\n",
    "    rhs = parse_expr(model_string)\n",
    "    sympy_expression = sp.Eq(lhs=lhs, rhs=rhs)\n",
    "    return sympy_expression\n",
    "\n",
    "features_latex = {\n",
    "    'b/d' : r'\\frac{b}{d}',\n",
    "    'l/b' : r'\\frac{l}{b}', \n",
    "    'lcg' : r'L_{cg}',\n",
    "    'fn' : 'F_n',\n",
    "    'cp' : 'C_p', \n",
    "    'volume' : 'V',\n",
    "}\n",
    "latex_features = [features_latex[key] for key in features]\n",
    "\n",
    "model_to_sympy(model=model, feature_names=latex_features, label='R')"
   ]
  },
  {
   "cell_type": "markdown",
   "metadata": {},
   "source": [
    "## Ensemble Methods: \n",
    "where the predictions made by multiple models are combined."
   ]
  },
  {
   "cell_type": "markdown",
   "metadata": {},
   "source": [
    "## Extreme Feature Engineering: \n",
    "where the attribute decomposition and aggregation seen in data preparation is pushed to the limits."
   ]
  },
  {
   "cell_type": "code",
   "execution_count": null,
   "metadata": {},
   "outputs": [],
   "source": []
  }
 ],
 "metadata": {
  "kernelspec": {
   "display_name": "Python 3",
   "language": "python",
   "name": "python3"
  }
 },
 "nbformat": 4,
 "nbformat_minor": 2
}
