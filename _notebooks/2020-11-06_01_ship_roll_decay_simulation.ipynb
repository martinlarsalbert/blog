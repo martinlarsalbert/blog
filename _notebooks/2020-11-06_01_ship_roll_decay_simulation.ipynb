{
 "cells": [
  {
   "cell_type": "markdown",
   "metadata": {},
   "source": [
    "# Ship roll-decay simulation\n",
    "> This is a short introduction to how a ship roll-decay test can be simulated.\n",
    "\n",
    "- toc: true\n",
    "- branch: master\n",
    "- badges: true\n",
    "- comments: true\n",
    "- categories: [roll-decay,simulation]\n",
    "- image: https://exitoina.uol.com.br/media/_versions/beatlessss_widelg.jpg\n",
    "- hide: false\n",
    "- search_exclude: true\n",
    "- metadata_key1: metadata_value1\n",
    "- metadata_key2: metadata_value2"
   ]
  },
  {
   "cell_type": "code",
   "execution_count": 1,
   "metadata": {},
   "outputs": [],
   "source": [
    "#hide\n",
    "import warnings\n",
    "warnings.filterwarnings(\"ignore\")"
   ]
  },
  {
   "cell_type": "markdown",
   "metadata": {},
   "source": [
    "## Roll damping"
   ]
  },
  {
   "cell_type": "markdown",
   "metadata": {},
   "source": [
    "A systems ability to damp reconance motions can be crucial as in the case of the Tacoma-narrows-bridge-collapse:\n",
    "![](https://upload.wikimedia.org/wikipedia/commons/4/4a/Tacoma-narrows-bridge-collapse.jpg)\n",
    "\n",
    "Resonance phenomena can also occur for ships, where for instance something called parametric roll can happen as can be seen in this video:"
   ]
  },
  {
   "cell_type": "markdown",
   "metadata": {},
   "source": [
    "<iframe width=\"560\" height=\"315\" src=\"https://www.youtube.com/embed/7PyJj_oPdyg?start=29\" frameborder=\"0\" allow=\"accelerometer; autoplay; clipboard-write; encrypted-media; gyroscope; picture-in-picture\" allowfullscreen></iframe>"
   ]
  },
  {
   "cell_type": "markdown",
   "metadata": {},
   "source": [
    "Having enough roll damping is one way to deal with this problem."
   ]
  },
  {
   "cell_type": "markdown",
   "metadata": {},
   "source": [
    "## Ship roll-decay test\n",
    "One way to determine the roll damping is to conduct a so called Roll-decay test. This test is conducted by giving the ship an initial roll angle and then observing the resulting oscillation. The oscillation motion will decrease with time due to energy losses from friction with the water and other things such as wave and eddy generation. Here is an example of a roll decay model test:"
   ]
  },
  {
   "cell_type": "markdown",
   "metadata": {},
   "source": [
    "<iframe width=\"560\" height=\"315\" src=\"https://www.youtube.com/embed/gN123b8gM-o\" frameborder=\"0\" allow=\"accelerometer; autoplay; clipboard-write; encrypted-media; gyroscope; picture-in-picture\" allowfullscreen></iframe>"
   ]
  },
  {
   "cell_type": "code",
   "execution_count": 2,
   "metadata": {},
   "outputs": [],
   "source": [
    "from scipy.integrate import solve_ivp\n",
    "import numpy as np\n",
    "import pandas as pd\n",
    "import matplotlib.pyplot as plt\n",
    "from ipywidgets import interactive"
   ]
  },
  {
   "cell_type": "markdown",
   "metadata": {},
   "source": [
    "## Simulation\n",
    "Newtons 2nd law can be used to predict the resulting motion from forces:\n",
    "$$F=m \\cdot a$$\n",
    "so we want to determine acceleration $a$ which can then be integrated to get the velocity and position to describe the motion."
   ]
  },
  {
   "cell_type": "code",
   "execution_count": 3,
   "metadata": {},
   "outputs": [],
   "source": [
    "def calculate_acceleration(F,m):\n",
    "    a = F/m\n",
    "    return a"
   ]
  },
  {
   "cell_type": "markdown",
   "metadata": {},
   "source": [
    "Lets simulate a 1 kg object falling without any drag. \n",
    "It can be done by:\n",
    "1. calculate acceleration\n",
    "2. calculate the velocity by adding acceleration\n",
    "3. calculate the position by adding the velocity"
   ]
  },
  {
   "cell_type": "code",
   "execution_count": 4,
   "metadata": {},
   "outputs": [
    {
     "data": {
      "image/png": "[encoded data removed]",
      "text/plain": [
       "<Figure size 432x288 with 1 Axes>"
      ]
     },
     "metadata": {
      "needs_background": "light"
     },
     "output_type": "display_data"
    }
   ],
   "source": [
    "dt = 1.0\n",
    "t = np.arange(0,10,dt)\n",
    "\n",
    "g=9.81\n",
    "F=-g\n",
    "m=1\n",
    "velocity=0.0  # initial velocity\n",
    "position=0.0  # initial position\n",
    "positions=[]\n",
    "for n in range(len(t)):\n",
    "    \n",
    "    acceleration = calculate_acceleration(F=F, m=m)\n",
    "    velocity = velocity + acceleration*dt\n",
    "    position = position + velocity*dt\n",
    "    positions.append(position)\n",
    "    \n",
    "fig,ax=plt.subplots()\n",
    "ax.plot(t,positions);\n",
    "ax.set_xlabel('time [s]')\n",
    "ax.set_ylabel('position [m]');\n",
    "ax.grid(True)"
   ]
  },
  {
   "cell_type": "code",
   "execution_count": 5,
   "metadata": {},
   "outputs": [
    {
     "data": {
      "application/vnd.jupyter.widget-view+json": {
       "model_id": "90233cfad2514d0587f127d426bee5b5",
       "version_major": 2,
       "version_minor": 0
      },
      "text/plain": [
       "interactive(children=(FloatSlider(value=0.5, description='t', max=9.5, min=0.5, step=0.5), Output(layout=Layou…"
      ]
     },
     "metadata": {},
     "output_type": "display_data"
    }
   ],
   "source": [
    "#collapse\n",
    "dt = 0.5\n",
    "t = np.arange(dt,10,dt)\n",
    "\n",
    "g=9.81\n",
    "F=-g\n",
    "m=1\n",
    "velocity=0.0  # initial velocity\n",
    "position=0.0  # initial position\n",
    "t_old = 0\n",
    "\n",
    "def update(t=0.0):\n",
    "    \n",
    "    global velocity\n",
    "    global position\n",
    "    global t_old\n",
    "    \n",
    "    dt = t-t_old\n",
    "    t_old = t\n",
    "    \n",
    "    acceleration = calculate_acceleration(F=F, m=m)\n",
    "    velocity = velocity + acceleration*dt\n",
    "    position = position + velocity*dt\n",
    "    \n",
    "    fig,ax=plt.subplots()\n",
    "    ax.plot([0],[position],'bo',ms=20)\n",
    "    ax.set_ylim(-600,0)\n",
    "    ax.set_xlim(0,0)\n",
    "    \n",
    "interactive_plot = interactive(update, t=(t[0], t[-1], dt))\n",
    "output = interactive_plot.children[-1]\n",
    "output.layout.height = '350px'\n",
    "interactive_plot"
   ]
  },
  {
   "cell_type": "markdown",
   "metadata": {},
   "source": [
    "$$\n",
    "A\\cdot\\ddot{\\phi} + B\\cdot\\dot{\\phi} + C\\cdot\\phi = 0\n",
    "$$"
   ]
  }
 ],
 "metadata": {
  "kernelspec": {
   "display_name": "Python 3",
   "language": "python",
   "name": "python3"
  },
  "language_info": {
   "codemirror_mode": {
    "name": "ipython",
    "version": 3
   },
   "file_extension": ".py",
   "mimetype": "text/x-python",
   "name": "python",
   "nbconvert_exporter": "python",
   "pygments_lexer": "ipython3",
   "version": "3.6.5"
  }
 },
 "nbformat": 4,
 "nbformat_minor": 4
}
