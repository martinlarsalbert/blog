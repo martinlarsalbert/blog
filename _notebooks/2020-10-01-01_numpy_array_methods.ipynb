{
 "cells": [
  {
   "cell_type": "markdown",
   "metadata": {},
   "source": [
    "# Numpy array methods\n",
    "> It is nice with methods that can accept both scalar values (int, float) but also array of values (numpy.ndarray). In many cases I write methods that take only scalar values as arguments, so that I need to itterate this method to work an array of arguments. Here I want to explore the best way to turn these scalar methods into array methods.\n",
    "\n",
    "- toc: true\n",
    "- branch: master\n",
    "- badges: true\n",
    "- comments: true\n",
    "- categories: [python, numpy, pandas]\n",
    "- image: images/DEMOPS.png\n",
    "- hide: false\n",
    "- search_exclude: true\n",
    "- metadata_key1: metadata_value1\n",
    "- metadata_key2: metadata_value2"
   ]
  },
  {
   "cell_type": "code",
   "execution_count": 1,
   "metadata": {},
   "outputs": [],
   "source": [
    "#hide\n",
    "import warnings\n",
    "warnings.filterwarnings(\"ignore\")"
   ]
  },
  {
   "cell_type": "code",
   "execution_count": 2,
   "metadata": {},
   "outputs": [],
   "source": [
    "#collapse\n",
    "import numpy as np\n",
    "import matplotlib.pyplot as plt\n",
    "import pandas as pd\n",
    "from scipy.integrate import odeint"
   ]
  },
  {
   "cell_type": "markdown",
   "metadata": {},
   "source": [
    "## 1D"
   ]
  },
  {
   "cell_type": "markdown",
   "metadata": {},
   "source": [
    "Let's pretend that I have developed this method"
   ]
  },
  {
   "cell_type": "code",
   "execution_count": 15,
   "metadata": {},
   "outputs": [],
   "source": [
    "def scalar_method_1D(x):\n",
    "    \n",
    "    condition = (x > 100)  # The condition of the if-statement\n",
    "    value_true = 2*x  # value of y if condition is True\n",
    "    value_false = x  # value of y if condition is False\n",
    "    \n",
    "    if condition:\n",
    "        y = value_true\n",
    "    else:\n",
    "        y = value_false\n",
    "        \n",
    "    return y"
   ]
  },
  {
   "cell_type": "markdown",
   "metadata": {},
   "source": [
    "But this method does not work for an array input:"
   ]
  },
  {
   "cell_type": "code",
   "execution_count": 19,
   "metadata": {},
   "outputs": [
    {
     "name": "stdout",
     "output_type": "stream",
     "text": [
      "The truth value of an array with more than one element is ambiguous. Use a.any() or a.all()\n"
     ]
    }
   ],
   "source": [
    "N = 9\n",
    "x = np.linspace(0,200,N)\n",
    "try:\n",
    "    y=scalar_method_1D(x=x)\n",
    "except Exception as e:\n",
    "    print(e)"
   ]
  },
  {
   "cell_type": "markdown",
   "metadata": {},
   "source": [
    "So in this case we need to do an itteration to get values for an array of x values:"
   ]
  },
  {
   "cell_type": "code",
   "execution_count": 24,
   "metadata": {},
   "outputs": [
    {
     "data": {
      "image/png": "[encoded data removed]",
      "text/plain": [
       "<Figure size 432x288 with 1 Axes>"
      ]
     },
     "metadata": {
      "needs_background": "light"
     },
     "output_type": "display_data"
    }
   ],
   "source": [
    "y=[]\n",
    "for x_ in x:\n",
    "    y_=scalar_method_1D(x=x_)\n",
    "    y.append(y_)\n",
    "    \n",
    "fig,ax=plt.subplots()\n",
    "ax.plot(x,y,'o')\n",
    "ax.grid(True)\n",
    "ax.set_xlabel('x')\n",
    "ax.set_ylabel('y')\n",
    "ax.set_title('Itteration solution');"
   ]
  },
  {
   "cell_type": "markdown",
   "metadata": {},
   "source": [
    "Clearly the if-statement is causing some problems here. The problem can be solved reforumlating the method with *np.where(...)*:"
   ]
  },
  {
   "cell_type": "code",
   "execution_count": 28,
   "metadata": {},
   "outputs": [],
   "source": [
    "def array_method_1D(x):\n",
    "    \n",
    "    condition = (x > 100)  # The condition of the if-statement\n",
    "    value_true = 2*x  # value of y if condition is True\n",
    "    value_false = x  # value of y if condition is False\n",
    "    \n",
    "    y = np.where(condition, value_true, value_false)\n",
    "           \n",
    "    return y"
   ]
  },
  {
   "cell_type": "code",
   "execution_count": 29,
   "metadata": {
    "scrolled": true
   },
   "outputs": [
    {
     "data": {
      "image/png": "[encoded data removed]",
      "text/plain": [
       "<Figure size 432x288 with 1 Axes>"
      ]
     },
     "metadata": {
      "needs_background": "light"
     },
     "output_type": "display_data"
    }
   ],
   "source": [
    "y=array_method_1D(x=x)\n",
    "\n",
    "fig,ax=plt.subplots()\n",
    "ax.plot(x,y,'o')\n",
    "ax.grid(True)\n",
    "ax.set_xlabel('x')\n",
    "ax.set_ylabel('y')\n",
    "ax.set_title('Itteration solution');"
   ]
  },
  {
   "cell_type": "markdown",
   "metadata": {},
   "source": [
    "And the array method also works for scalars:"
   ]
  },
  {
   "cell_type": "code",
   "execution_count": 31,
   "metadata": {},
   "outputs": [
    {
     "data": {
      "text/plain": [
       "array(100)"
      ]
     },
     "execution_count": 31,
     "metadata": {},
     "output_type": "execute_result"
    }
   ],
   "source": [
    "array_method_1D(x=100)"
   ]
  },
  {
   "cell_type": "markdown",
   "metadata": {},
   "source": [
    "## 2D\n",
    "Another common problem is to make the following method to work with arrays:"
   ]
  },
  {
   "cell_type": "code",
   "execution_count": 33,
   "metadata": {},
   "outputs": [],
   "source": [
    "def scalar_method_2D(x,y):\n",
    "    z = x*y\n",
    "    return z"
   ]
  },
  {
   "cell_type": "code",
   "execution_count": 39,
   "metadata": {},
   "outputs": [
    {
     "data": {
      "text/plain": [
       "array([    0., 10000., 40000.])"
      ]
     },
     "execution_count": 39,
     "metadata": {},
     "output_type": "execute_result"
    }
   ],
   "source": [
    "N = 3\n",
    "x = np.linspace(0,200,N)\n",
    "y = np.linspace(0,200,N)\n",
    "scalar_method_2D(x,y)"
   ]
  },
  {
   "cell_type": "markdown",
   "metadata": {},
   "source": [
    "But it does not work if the arrays don't have the same length:"
   ]
  },
  {
   "cell_type": "code",
   "execution_count": 40,
   "metadata": {},
   "outputs": [
    {
     "name": "stdout",
     "output_type": "stream",
     "text": [
      "operands could not be broadcast together with shapes (3,) (4,) \n"
     ]
    }
   ],
   "source": [
    "x = np.linspace(0,200,N)\n",
    "y = np.linspace(0,200,N+1)\n",
    "try:\n",
    "    scalar_method_2D(x,y)\n",
    "except Exception as e:\n",
    "    print(e)"
   ]
  },
  {
   "cell_type": "markdown",
   "metadata": {},
   "source": [
    "So this one works if *x* and *y* have the same length but sometimes you want this method to work if they have different length also. An of course again you can use itteration:"
   ]
  },
  {
   "cell_type": "code",
   "execution_count": 44,
   "metadata": {
    "scrolled": true
   },
   "outputs": [
    {
     "data": {
      "text/plain": [
       "array([[    0.        ,     0.        ,     0.        ,     0.        ],\n",
       "       [    0.        ,  6666.66666667, 13333.33333333, 20000.        ],\n",
       "       [    0.        , 13333.33333333, 26666.66666667, 40000.        ]])"
      ]
     },
     "execution_count": 44,
     "metadata": {},
     "output_type": "execute_result"
    }
   ],
   "source": [
    "z=np.zeros((len(x),len(y)))\n",
    "for i,x_ in enumerate(x):\n",
    "    for j,y_ in enumerate(y):\n",
    "        z[i,j] = scalar_method_2D(x_,y_)\n",
    "z  "
   ]
  },
  {
   "cell_type": "markdown",
   "metadata": {},
   "source": [
    "An alternative solution would be to use *np.meshgrid* to generate matrixes as input:"
   ]
  },
  {
   "cell_type": "code",
   "execution_count": 46,
   "metadata": {
    "scrolled": true
   },
   "outputs": [
    {
     "data": {
      "text/plain": [
       "array([[    0.        ,     0.        ,     0.        ],\n",
       "       [    0.        ,  6666.66666667, 13333.33333333],\n",
       "       [    0.        , 13333.33333333, 26666.66666667],\n",
       "       [    0.        , 20000.        , 40000.        ]])"
      ]
     },
     "execution_count": 46,
     "metadata": {},
     "output_type": "execute_result"
    }
   ],
   "source": [
    "X,Y=np.meshgrid(x,y)\n",
    "Z=scalar_method_2D(X,Y)\n",
    "Z"
   ]
  },
  {
   "cell_type": "markdown",
   "metadata": {},
   "source": [
    "But what if there are three arguments: x,y of the same length and z with another one?"
   ]
  },
  {
   "cell_type": "code",
   "execution_count": 64,
   "metadata": {},
   "outputs": [],
   "source": [
    "x = np.linspace(0,200,N)\n",
    "y = np.zeros(N)\n",
    "z = np.linspace(0,200,N+1)\n",
    "\n",
    "def scalar_method_2D_2(x,y,z):\n",
    "    return (x+y)*z    \n",
    "    "
   ]
  },
  {
   "cell_type": "markdown",
   "metadata": {},
   "source": [
    "Itteration solution:"
   ]
  },
  {
   "cell_type": "code",
   "execution_count": 75,
   "metadata": {},
   "outputs": [
    {
     "data": {
      "text/plain": [
       "array([[    0.        ,     0.        ,     0.        ,     0.        ],\n",
       "       [    0.        ,  6666.66666667, 13333.33333333, 20000.        ],\n",
       "       [    0.        , 13333.33333333, 26666.66666667, 40000.        ]])"
      ]
     },
     "execution_count": 75,
     "metadata": {},
     "output_type": "execute_result"
    }
   ],
   "source": [
    "w=np.zeros((len(x),len(z)))\n",
    "for i,(x_,y_) in enumerate(zip(x,y)):\n",
    "    for j,z_ in enumerate(z):\n",
    "        w[i,j] = scalar_method_2D_2(x_,y_,z_)\n",
    "w"
   ]
  },
  {
   "cell_type": "markdown",
   "metadata": {},
   "source": [
    "One way to generete matrixes for this is to use *np.tile*:"
   ]
  },
  {
   "cell_type": "code",
   "execution_count": 78,
   "metadata": {},
   "outputs": [
    {
     "data": {
      "text/plain": [
       "array([[    0.        ,     0.        ,     0.        ,     0.        ],\n",
       "       [    0.        ,  6666.66666667, 13333.33333333, 20000.        ],\n",
       "       [    0.        , 13333.33333333, 26666.66666667, 40000.        ]])"
      ]
     },
     "execution_count": 78,
     "metadata": {},
     "output_type": "execute_result"
    }
   ],
   "source": [
    "X=np.tile(x,(len(z),1)).transpose()\n",
    "Y=np.tile(y,(len(z),1)).transpose()\n",
    "Z=np.tile(z,(len(x),1))\n",
    "\n",
    "W=scalar_method_2D_2(X,Y,Z)\n",
    "W"
   ]
  },
  {
   "cell_type": "code",
   "execution_count": null,
   "metadata": {},
   "outputs": [],
   "source": []
  }
 ],
 "metadata": {
  "kernelspec": {
   "display_name": "Python 3",
   "language": "python",
   "name": "python3"
  },
  "language_info": {
   "codemirror_mode": {
    "name": "ipython",
    "version": 3
   },
   "file_extension": ".py",
   "mimetype": "text/x-python",
   "name": "python",
   "nbconvert_exporter": "python",
   "pygments_lexer": "ipython3",
   "version": "3.5.4"
  }
 },
 "nbformat": 4,
 "nbformat_minor": 2
}
