{
 "cells": [
  {
   "cell_type": "markdown",
   "metadata": {},
   "source": [
    "# First order Nomoto model equation\n",
    "> Understanding the Nomoto model equation\n",
    "\n",
    "- toc: true\n",
    "- branch: master\n",
    "- badges: true\n",
    "- comments: true\n",
    "- categories: [simulation, dynamics, manoeuvring, system identification, nomoto]\n",
    "- image: https://www.marineinsight.com/wp-content/uploads/2017/05/hull8.png\n",
    "- hide: false\n",
    "- search_exclude: true\n",
    "- metadata_key1: metadata_value1\n",
    "- metadata_key2: metadata_value2"
   ]
  },
  {
   "cell_type": "markdown",
   "metadata": {},
   "source": [
    "The first order Nomoto model can be written as:\n",
    "$$ K \\cdot \\delta=r+T_{1} \\cdot \\dot{r}+T_{2} \\cdot \\ddot{r} $$\n",
    "where $r$ is yaw rate with its time derivatives and $\\delta$ is the rudder angle. $K$, $T_{1}$\n",
    " and $T_{1}$ are the coefficients describing the hydrodynamics of the ship.\n",
    " \n",
    " For slow manoeuvres this equation can be further simplified by removing the $\\ddot{r}$ term:\n",
    " $$ K \\cdot \\delta=r+T_{1} \\cdot \\dot{r}$$"
   ]
  },
  {
   "cell_type": "code",
   "execution_count": 1,
   "metadata": {},
   "outputs": [],
   "source": [
    "#hide\n",
    "import warnings\n",
    "warnings.filterwarnings(\"ignore\")"
   ]
  },
  {
   "cell_type": "code",
   "execution_count": 5,
   "metadata": {},
   "outputs": [],
   "source": [
    "#collapse\n",
    "from scipy.integrate import solve_ivp\n",
    "import numpy as np\n",
    "import pandas as pd\n",
    "import matplotlib.pyplot as plt\n",
    "from IPython.display import display, Latex, Math\n",
    "from scipy.optimize import least_squares\n",
    "import altair as alt\n",
    "from ipywidgets import interactive"
   ]
  },
  {
   "cell_type": "code",
   "execution_count": 13,
   "metadata": {},
   "outputs": [],
   "source": [
    "#collapse\n",
    "def nomoto_zigzag(t, states, K, T_1, angle=np.deg2rad(10)):\n",
    "    \"\"\"\n",
    "    Simulation model for heading and yaw rate using Nomoto with only K and T_1\n",
    "    Also including an autopilot for ZigZag test:\n",
    "    \"\"\"\n",
    "    \n",
    "    \n",
    "    # states: \n",
    "    psi = states[0]\n",
    "    r = states[1]\n",
    "    \n",
    "    #ZigZag autopilot:\n",
    "    sign=-1\n",
    "    psi_pluss = ((psi>=0) and (psi<angle))\n",
    "    psi_minus = ((psi>=-angle) and (psi<=0))\n",
    "    \n",
    "    if (\n",
    "        (psi_pluss and (r>=0)) |\n",
    "        (psi<-angle) |\n",
    "        (psi_minus and (r>=0))\n",
    "        \n",
    "        \n",
    "    ):\n",
    "        sign=1   \n",
    "    delta_=sign*angle\n",
    "    \n",
    "    #Nomoto equation:\n",
    "    r1d_ = (K*delta_ - r)/T_1 \n",
    "    d_states_dt = np.array([r,r1d_])\n",
    "    \n",
    "    return d_states_dt"
   ]
  },
  {
   "cell_type": "code",
   "execution_count": 17,
   "metadata": {},
   "outputs": [],
   "source": [
    "def simulate_zigzag(K = 0.2, T_1=10):\n",
    "\n",
    "    ## Simulation:\n",
    "    \n",
    "    angle=np.deg2rad(10)\n",
    "    states_0 = np.array([0,0])\n",
    "    t = np.linspace(0,100,100)\n",
    "    \n",
    "    sol = solve_ivp(fun = nomoto_zigzag,t_span=[t[0],t[-1]],t_eval=t, y0 = states_0, args=(K,T_1,angle))\n",
    "    psi = sol.y[0,:]\n",
    "    r = sol.y[1,:]\n",
    "    \n",
    "    ## Plotting:\n",
    "    fig,ax=plt.subplots()\n",
    "    ax.plot(t,np.rad2deg(psi));\n",
    "    ax.grid(True)\n",
    "    ax.set_title('Simulation ZigZag%0.0f/%0.0f with Nomoto model' % (np.rad2deg(angle),np.rad2deg(angle)))\n",
    "    ax.set_ylabel('$\\psi$ [deg]')\n",
    "    ax.set_xlabel('time [s]');"
   ]
  },
  {
   "cell_type": "code",
   "execution_count": 19,
   "metadata": {},
   "outputs": [
    {
     "data": {
      "application/vnd.jupyter.widget-view+json": {
       "model_id": "093247cffa1347998e24f8cf06ed39fe",
       "version_major": 2,
       "version_minor": 0
      },
      "text/plain": [
       "interactive(children=(FloatSlider(value=0.2, description='K', max=2.0, min=0.01), FloatSlider(value=10.0, desc…"
      ]
     },
     "metadata": {},
     "output_type": "display_data"
    }
   ],
   "source": [
    "#collapse\n",
    "interactive_plot = interactive(simulate_zigzag, K=(0.01, 2.0), T_1=(5, 10, 0.5))\n",
    "output = interactive_plot.children[-1]\n",
    "output.layout.height = '350px'\n",
    "interactive_plot\n"
   ]
  },
  {
   "cell_type": "code",
   "execution_count": null,
   "metadata": {},
   "outputs": [],
   "source": []
  }
 ],
 "metadata": {
  "kernelspec": {
   "display_name": "Python 3",
   "language": "python",
   "name": "python3"
  },
  "language_info": {
   "codemirror_mode": {
    "name": "ipython",
    "version": 3
   },
   "file_extension": ".py",
   "mimetype": "text/x-python",
   "name": "python",
   "nbconvert_exporter": "python",
   "pygments_lexer": "ipython3",
   "version": "3.5.4"
  }
 },
 "nbformat": 4,
 "nbformat_minor": 2
}
